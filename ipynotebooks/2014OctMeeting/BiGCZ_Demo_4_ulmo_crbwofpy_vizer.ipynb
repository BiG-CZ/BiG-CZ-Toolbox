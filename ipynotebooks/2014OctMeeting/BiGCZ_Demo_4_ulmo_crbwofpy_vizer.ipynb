{
 "metadata": {
  "name": "",
  "signature": "sha256:d8ddacbbb430759bc128a0fdf824b025af31a72275a853b55fc3c18dbc6bb04b"
 },
 "nbformat": 3,
 "nbformat_minor": 0,
 "worksheets": [
  {
   "cells": [
    {
     "cell_type": "markdown",
     "metadata": {},
     "source": [
      "# Tests for ulmo ingest from Christina River Basin CZO WOFpy endpoint\n",
      "Updated 10/27, 9/7/2014. Emilio Mayorga"
     ]
    },
    {
     "cell_type": "code",
     "collapsed": false,
     "input": [
      "%matplotlib inline\n",
      "import pylab as plt\n",
      "import datetime\n",
      "import pytz\n",
      "import pandas as pd\n",
      "import ulmo"
     ],
     "language": "python",
     "metadata": {},
     "outputs": [],
     "prompt_number": 1
    },
    {
     "cell_type": "code",
     "collapsed": false,
     "input": [
      "wsdlurl = \"http://71.185.29.35:8080/soap/wateroneflow.wsdl\""
     ],
     "language": "python",
     "metadata": {},
     "outputs": [],
     "prompt_number": 2
    },
    {
     "cell_type": "markdown",
     "metadata": {},
     "source": [
      "### Explore site information (metadata, data availability)"
     ]
    },
    {
     "cell_type": "markdown",
     "metadata": {},
     "source": [
      "Information on the selected site is available at http://swrcsensors.dreamhosters.com/charts_main_SL031.php and http://71.185.29.35:8080/GetSiteInfo?site=CRBCZO:WCC019"
     ]
    },
    {
     "cell_type": "code",
     "collapsed": false,
     "input": [
      "sitecd = 'WCC019'\n",
      "sitecd_arg = 'CRBCZO:'+sitecd"
     ],
     "language": "python",
     "metadata": {},
     "outputs": [],
     "prompt_number": 3
    },
    {
     "cell_type": "code",
     "collapsed": false,
     "input": [
      "site1info = ulmo.cuahsi.wof.get_site_info(wsdlurl, sitecd_arg)"
     ],
     "language": "python",
     "metadata": {},
     "outputs": [],
     "prompt_number": 4
    },
    {
     "cell_type": "code",
     "collapsed": false,
     "input": [
      "site1info.keys()"
     ],
     "language": "python",
     "metadata": {},
     "outputs": [
      {
       "metadata": {},
       "output_type": "pyout",
       "prompt_number": 5,
       "text": [
        "['code', 'name', 'series', 'notes', 'network', 'location', 'timezone_info']"
       ]
      }
     ],
     "prompt_number": 5
    },
    {
     "cell_type": "code",
     "collapsed": false,
     "input": [
      "print site1info['code'], '|', site1info['name'], '|', site1info['network'], '|', site1info['notes']"
     ],
     "language": "python",
     "metadata": {},
     "outputs": [
      {
       "output_type": "stream",
       "stream": "stdout",
       "text": [
        "WCC019 | White Clay Creek 19m Upstream of Spencer Road | CRBCZO | {'state': 'Pennsylvania'}\n"
       ]
      }
     ],
     "prompt_number": 6
    },
    {
     "cell_type": "code",
     "collapsed": false,
     "input": [
      "site1info['series'].keys()"
     ],
     "language": "python",
     "metadata": {},
     "outputs": [
      {
       "metadata": {},
       "output_type": "pyout",
       "prompt_number": 7,
       "text": [
        "['CRBCZO:CTDdepth',\n",
        " 'CRBCZO:CTDcond',\n",
        " 'CRBCZO:TurbHigh',\n",
        " 'CRBCZO:CTDtemp',\n",
        " 'CRBCZO:BoardTemp',\n",
        " 'CRBCZO:TurbLow']"
       ]
      }
     ],
     "prompt_number": 7
    },
    {
     "cell_type": "code",
     "collapsed": false,
     "input": [
      "# Explore temperature\n",
      "varcd = 'CTDtemp'\n",
      "varcd_arg = 'CRBCZO:'+varcd"
     ],
     "language": "python",
     "metadata": {},
     "outputs": [],
     "prompt_number": 8
    },
    {
     "cell_type": "code",
     "collapsed": false,
     "input": [
      "site1info['series'][varcd_arg]"
     ],
     "language": "python",
     "metadata": {},
     "outputs": [
      {
       "metadata": {},
       "output_type": "pyout",
       "prompt_number": 9,
       "text": [
        "{'variable': {'code': 'CTDtemp',\n",
        "  'data_type': 'Average',\n",
        "  'general_category': 'Water Quality',\n",
        "  'id': None,\n",
        "  'name': 'Temperature',\n",
        "  'no_data_value': '-9999',\n",
        "  'sample_medium': 'Surface water',\n",
        "  'time': {'is_regular': True,\n",
        "   'units': {'abbreviation': 's', 'name': 'second', 'type': 'Time'}},\n",
        "  'units': {'abbreviation': 'degC',\n",
        "   'code': '96',\n",
        "   'name': 'degree celsius',\n",
        "   'type': 'Temperature'},\n",
        "  'value_type': 'Field Observation',\n",
        "  'vocabulary': 'CRBCZO'},\n",
        " '{http://www.cuahsi.org/water_ml/1.0/}_method': {'method_description': 'Measured with a combined conductivity/turbidity/depth probe',\n",
        "  'method_id': '1'},\n",
        " '{http://www.cuahsi.org/water_ml/1.0/}_quality_control_level': {'quality_control_level': 'Raw data',\n",
        "  'quality_control_level_id': '0'},\n",
        " '{http://www.cuahsi.org/water_ml/1.0/}_source': {'abstract': 'Critical Zone Observatory',\n",
        "  'address': '970 Spencer Road, Avondale, PA, 19311',\n",
        "  'contact_name': 'Steve Hicks',\n",
        "  'email': 'info@stroudcenter.org',\n",
        "  'organization': 'Stroud Water Research Center',\n",
        "  'phone': '610-268-2153',\n",
        "  'source_description': 'Data collected by Stroud Water Research Center',\n",
        "  'source_id': '21',\n",
        "  'source_link': 'http://www.stroudcenter.org/',\n",
        "  'title': 'Christina River Basin'},\n",
        " '{http://www.cuahsi.org/water_ml/1.0/}value_count': {'value_count': '0'},\n",
        " '{http://www.cuahsi.org/water_ml/1.0/}variable_time_interval': {'begin_date_time': '2014-01-27T11:42:41-05:00',\n",
        "  'end_date_time': '2014-10-28T11:59:32-05:00',\n",
        "  'variable_time_interval_type': 'TimeIntervalType'}}"
       ]
      }
     ],
     "prompt_number": 9
    },
    {
     "cell_type": "markdown",
     "metadata": {},
     "source": [
      "### Request and parse time series for 'CRBCZO:CTDtemp': Temperature"
     ]
    },
    {
     "cell_type": "code",
     "collapsed": false,
     "input": [
      "local_tz = pytz.timezone('US/Eastern')\n",
      "now_utc_dt = datetime.datetime.utcnow().replace(tzinfo=pytz.utc)\n",
      "now_local_dt = now_utc_dt.astimezone(local_tz)\n",
      "now_local_dt"
     ],
     "language": "python",
     "metadata": {},
     "outputs": [
      {
       "metadata": {},
       "output_type": "pyout",
       "prompt_number": 10,
       "text": [
        "datetime.datetime(2014, 10, 28, 13, 2, 54, 424297, tzinfo=<DstTzInfo 'US/Eastern' EDT-1 day, 20:00:00 DST>)"
       ]
      }
     ],
     "prompt_number": 10
    },
    {
     "cell_type": "code",
     "collapsed": false,
     "input": [
      "# Select datetime range\n",
      "#dtf = datetime.datetime(2014, 8, 26, 0, 0)\n",
      "#dt0 = now_local_dt - datetime.timedelta(hours=2)\n",
      "dt0 = now_local_dt - datetime.timedelta(days=30)\n",
      "dtf = now_local_dt"
     ],
     "language": "python",
     "metadata": {},
     "outputs": [],
     "prompt_number": 11
    },
    {
     "cell_type": "code",
     "collapsed": false,
     "input": [
      "# Request data from dt0 to the most recent values\n",
      "#site1var1_gval = ulmo.cuahsi.wof.get_values(wsdlurl, sitecd_arg, varcd_arg, start=dt0, suds_cache=None)\n",
      "site1var1_gval = ulmo.cuahsi.wof.get_values(wsdlurl, sitecd_arg, varcd_arg, start=dt0)"
     ],
     "language": "python",
     "metadata": {},
     "outputs": [],
     "prompt_number": 12
    },
    {
     "cell_type": "code",
     "collapsed": false,
     "input": [
      "site1var1_gval.keys()"
     ],
     "language": "python",
     "metadata": {},
     "outputs": [
      {
       "metadata": {},
       "output_type": "pyout",
       "prompt_number": 13,
       "text": [
        "['variable', 'sources', 'values', 'site', 'methods']"
       ]
      }
     ],
     "prompt_number": 13
    },
    {
     "cell_type": "code",
     "collapsed": false,
     "input": [
      "site1variable = site1var1_gval['variable']\n",
      "site1variable, len(site1var1_gval['values']), site1var1_gval['values'][-1]"
     ],
     "language": "python",
     "metadata": {},
     "outputs": [
      {
       "metadata": {},
       "output_type": "pyout",
       "prompt_number": 14,
       "text": [
        "({'code': 'CTDtemp',\n",
        "  'data_type': 'Average',\n",
        "  'general_category': 'Water Quality',\n",
        "  'id': None,\n",
        "  'name': 'Temperature',\n",
        "  'no_data_value': '-9999',\n",
        "  'sample_medium': 'Surface water',\n",
        "  'time': {'is_regular': True,\n",
        "   'units': {'abbreviation': 's', 'name': 'second', 'type': 'Time'}},\n",
        "  'units': {'abbreviation': 'degC',\n",
        "   'code': '96',\n",
        "   'name': 'degree celsius',\n",
        "   'type': 'Temperature'},\n",
        "  'value_type': 'Field Observation',\n",
        "  'vocabulary': 'CRBCZO'},\n",
        " 8250,\n",
        " {'censor_code': 'nc',\n",
        "  'datetime': '2014-10-28T11:59:32-05:00',\n",
        "  'method_id': '1',\n",
        "  'quality_control_level': 'Raw data',\n",
        "  'source_id': '4',\n",
        "  'value': '13.0'})"
       ]
      }
     ],
     "prompt_number": 14
    },
    {
     "cell_type": "markdown",
     "metadata": {},
     "source": [
      "### Parse then plot the time series data"
     ]
    },
    {
     "cell_type": "code",
     "collapsed": false,
     "input": [
      "# Set a nice, user-friendly variable name string\n",
      "unitsabbrev = site1variable['units']['abbreviation']\n",
      "variable_name = \"%s, %s (%s)\" % (site1variable['name'], unitsabbrev, site1variable['value_type'])"
     ],
     "language": "python",
     "metadata": {},
     "outputs": [],
     "prompt_number": 15
    },
    {
     "cell_type": "markdown",
     "metadata": {},
     "source": [
      "**Datetime in request vs response:** Note that *dt0* passed as argument to get_values was naive, had no timezone information. The response datetime strings do have a timezone offset. The first datetime values in this response (*site1var1_ts[:2]*) make it clear that the WOF server interpreted *dt0* as being in *local* time (the timezone used in the WOF database and server), which is Eastern in this case."
     ]
    },
    {
     "cell_type": "code",
     "collapsed": false,
     "input": [
      "# Create a clean timeseries list of (dt,val) tuples, show the last 2 entries\n",
      "tsdt_tuplst = [(ulmo.util.convert_datetime(valdict['datetime']), float(valdict['value']))\n",
      "               for valdict in site1var1_gval['values']]"
     ],
     "language": "python",
     "metadata": {},
     "outputs": [],
     "prompt_number": 16
    },
    {
     "cell_type": "markdown",
     "metadata": {},
     "source": [
      "Ingest into a nice Pandas DataFrame, then plot"
     ]
    },
    {
     "cell_type": "code",
     "collapsed": false,
     "input": [
      "dt, val = zip(*tsdt_tuplst)\n",
      "ts_df = pd.DataFrame({'date-time':dt, variable_name:val})\n",
      "ts_df.set_index('date-time', inplace=True)\n",
      "ts_df.tail(5)"
     ],
     "language": "python",
     "metadata": {},
     "outputs": [
      {
       "html": [
        "<div style=\"max-height:1000px;max-width:1500px;overflow:auto;\">\n",
        "<table border=\"1\" class=\"dataframe\">\n",
        "  <thead>\n",
        "    <tr style=\"text-align: right;\">\n",
        "      <th></th>\n",
        "      <th>Temperature, degC (Field Observation)</th>\n",
        "    </tr>\n",
        "    <tr>\n",
        "      <th>date-time</th>\n",
        "      <th></th>\n",
        "    </tr>\n",
        "  </thead>\n",
        "  <tbody>\n",
        "    <tr>\n",
        "      <th>2014-10-28 11:39:32-05:00</th>\n",
        "      <td> 12.5</td>\n",
        "    </tr>\n",
        "    <tr>\n",
        "      <th>2014-10-28 11:44:32-05:00</th>\n",
        "      <td> 12.6</td>\n",
        "    </tr>\n",
        "    <tr>\n",
        "      <th>2014-10-28 11:49:32-05:00</th>\n",
        "      <td> 12.8</td>\n",
        "    </tr>\n",
        "    <tr>\n",
        "      <th>2014-10-28 11:54:32-05:00</th>\n",
        "      <td> 12.9</td>\n",
        "    </tr>\n",
        "    <tr>\n",
        "      <th>2014-10-28 11:59:32-05:00</th>\n",
        "      <td> 13.0</td>\n",
        "    </tr>\n",
        "  </tbody>\n",
        "</table>\n",
        "<p>5 rows \u00d7 1 columns</p>\n",
        "</div>"
       ],
       "metadata": {},
       "output_type": "pyout",
       "prompt_number": 17,
       "text": [
        "                           Temperature, degC (Field Observation)\n",
        "date-time                                                       \n",
        "2014-10-28 11:39:32-05:00                                   12.5\n",
        "2014-10-28 11:44:32-05:00                                   12.6\n",
        "2014-10-28 11:49:32-05:00                                   12.8\n",
        "2014-10-28 11:54:32-05:00                                   12.9\n",
        "2014-10-28 11:59:32-05:00                                   13.0\n",
        "\n",
        "[5 rows x 1 columns]"
       ]
      }
     ],
     "prompt_number": 17
    },
    {
     "cell_type": "code",
     "collapsed": false,
     "input": [
      "ts_df.plot();"
     ],
     "language": "python",
     "metadata": {},
     "outputs": [
      {
       "metadata": {},
       "output_type": "display_data",
       "png": "[encoded data removed]",
       "text": [
        "<matplotlib.figure.Figure at 0x7fcfeef63a50>"
       ]
      }
     ],
     "prompt_number": 18
    }
   ],
   "metadata": {}
  }
 ]
}
