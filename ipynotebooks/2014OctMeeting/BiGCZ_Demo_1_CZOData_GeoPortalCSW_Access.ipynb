{
 "metadata": {
  "name": "",
  "signature": "sha256:a1fb74274337134e3190d232b9c18219bebf320a358f30908c575ea1ec594f7d"
 },
 "nbformat": 3,
 "nbformat_minor": 0,
 "worksheets": [
  {
   "cells": [
    {
     "cell_type": "markdown",
     "metadata": {},
     "source": [
      "# Access CZOData Geoportal OGC CSW endpoint\n",
      "Use OWSLib to test accessing and querying the CSW endpoint. Illustrate a couple of different record filtering schemes. Examples are focused on Christina River Basin records.\n",
      "10/26/2014. Create 12/19/2013. Emilio Mayorga."
     ]
    },
    {
     "cell_type": "markdown",
     "metadata": {},
     "source": [
      "### Access the CSW endpoint"
     ]
    },
    {
     "cell_type": "code",
     "collapsed": false,
     "input": [
      "from owslib.csw import CatalogueServiceWeb\n",
      "from owslib import fes"
     ],
     "language": "python",
     "metadata": {},
     "outputs": [],
     "prompt_number": 1
    },
    {
     "cell_type": "code",
     "collapsed": false,
     "input": [
      "endpoint = 'http://search.criticalzone.org/czoportal/csw'\n",
      "czocsw = CatalogueServiceWeb(endpoint,timeout=30)"
     ],
     "language": "python",
     "metadata": {},
     "outputs": [],
     "prompt_number": 2
    },
    {
     "cell_type": "markdown",
     "metadata": {},
     "source": [
      "### Explore the CSW catalog\n",
      "Define record filters, issue a GetRecords (getrecords2) request with those filters"
     ]
    },
    {
     "cell_type": "code",
     "collapsed": false,
     "input": [
      "searchtxt1 = fes.PropertyIsEqualTo(propertyname='dc:subject', literal='christina river')\n",
      "czocsw.getrecords2(constraints=[searchtxt1], maxrecords=50,esn='full')"
     ],
     "language": "python",
     "metadata": {},
     "outputs": [],
     "prompt_number": 3
    },
    {
     "cell_type": "code",
     "collapsed": false,
     "input": [
      "# see number of matched and returned records\n",
      "czocsw.results"
     ],
     "language": "python",
     "metadata": {},
     "outputs": [
      {
       "metadata": {},
       "output_type": "pyout",
       "prompt_number": 4,
       "text": [
        "{'matches': 41, 'nextrecord': 0, 'returned': 41}"
       ]
      }
     ],
     "prompt_number": 4
    },
    {
     "cell_type": "markdown",
     "metadata": {},
     "source": [
      "Print out the record id's (\"key\") and titles"
     ]
    },
    {
     "cell_type": "code",
     "collapsed": false,
     "input": [
      "cswkeys_lst = czocsw.records.keys()\n",
      "print 'Total # of catalog records: ', len(cswkeys_lst)\n",
      "recssubset = [czocsw.records[cswkeys_lst[i]] for i in range(7)]\n",
      "for reckey in czocsw.records.keys():\n",
      "    print 'Record Key:   ', reckey\n",
      "    print '       Title: ', czocsw.records[reckey].title"
     ],
     "language": "python",
     "metadata": {},
     "outputs": [
      {
       "output_type": "stream",
       "stream": "stdout",
       "text": [
        "Total # of catalog records:  41\n",
        "Record Key:    {7d338a4f-3e28-379f-9eaf-76726bfcb648}\n",
        "       Title:  White Clay Creek - Well Water Levels (1988-2012)\n",
        "Record Key:    {eec9b958-790d-3472-9a9d-135e8080cdb8}\n",
        "       Title:  White Clay Creek - Stage, Streamflow / Discharge (1968-2012)\n",
        "Record Key:    {a4b3e388-b42a-33a6-b8fb-a57ff76ff977}\n",
        "       Title:  White Clay Creek - Chlorophyll - Pheophytin (2001-2012)\n",
        "Record Key:    {3a162e34-c861-33ee-ae9b-402937878521}\n",
        "       Title:  PA Avondale 2N - Climate, Air Temperature, Meteorology, Precipitation - NOAA CRN (2006-2014)\n",
        "Record Key:    {14f2b433-27d2-3194-af5c-610d52955bb7}\n",
        "       Title:  Christina River Basin - Stream Water Temperatures (2007-2012)\n",
        "Record Key:    {a4823087-640f-3f89-a7b8-13b8ba39a23a}\n",
        "       Title:  Christina River Basin - Stream Water Chemistry (1977-2012)\n",
        "Record Key:    {ad308574-044c-3942-81dc-7d6e155dafac}\n",
        "       Title:  Christina River Basin - Stream Water Chemistry, Stream Suspended Sediment, Stream Water Temperatures, Groundwater Depth - USGS (1985-2007)\n",
        "Record Key:    {968e77e1-8300-3630-a78c-b45b6812cb97}\n",
        "       Title:  Christina River Basin - Stream Suspended Sediment (1993-2012)\n",
        "Record Key:    {1b634ab0-d21a-33e5-8969-4092f667a044}\n",
        "       Title:  Chester County, PA - Stream Water Chemistry, Stream Ecology - USGS (1998-2013)\n",
        "Record Key:    {9d5dbc28-f945-3575-ae85-f4d8e798f51e}\n",
        "       Title:  Chester County, PA - Stream Water Chemistry, Streamflow / Discharge, Climate, Stage, Stream Water Temperatures - USGS (2007-2014)\n",
        "Record Key:    http://71.185.29.35/stroudwater/StroudData/chlorophyll/WCC_CHLA_2002.CSV\n",
        "       Title:  White Clay Creek Chlorophyll/Pheophytin Data 2002\n",
        "Record Key:    http://71.185.29.35/stroudwater/StroudData/chlorophyll/WCC_CHLA_2008.CSV\n",
        "       Title:  White Clay Creek Chlorophyll/Pheophytin Data 2008\n",
        "Record Key:    http://71.185.29.35/stroudwater/StroudData/seston/CRB_SESTON_1998.CSV\n",
        "       Title:  White Clay Creek Seston Data 1998\n",
        "Record Key:    http://71.185.29.35/stroudwater/StroudData/chlorophyll/WCC_CHLA_2001.CSV\n",
        "       Title:  White Clay Creek Chlorophyll/Pheophytin Data 2001\n",
        "Record Key:    http://71.185.29.35/stroudwater/StroudData/hydrology/WCC926_STAGE_2012.CSV\n",
        "       Title:  White Clay Creek at 926 Stage Data 2012\n",
        "Record Key:    http://71.185.29.35/stroudwater/StroudData/seston/CRB_SESTON_2004.CSV\n",
        "       Title:  White Clay Creek Seston Data 2004\n",
        "Record Key:    http://71.185.29.35/stroudwater/StroudData/hydrology/CRB_WCC_STAGEFLOW_header.csv\n",
        "       Title:  White Clay Creek Stage and Discharge 1968-2012\n",
        "Record Key:    http://71.185.29.35/stroudwater/StroudData/temperature/CRBCZO_STREAM_TEMPS_0712_HEADER.CSV\n",
        "       Title:  Christina Watershed Stream Temperatures 2007-2012.\n",
        "Record Key:    http://71.185.29.35/stroudwater/StroudData/chlorophyll/WCC_CHLA_2009.CSV\n",
        "       Title:  White Clay Creek Chlorophyll/Pheophytin Data 2009\n",
        "Record Key:    http://71.185.29.35/stroudwater/StroudData/chlorophyll/WCC_CHLA_2007.CSV\n",
        "       Title:  White Clay Creek Chlorophyll/Pheophytin Data 2007\n",
        "Record Key:    http://71.185.29.35/stroudwater/StroudData/chlorophyll/WCC_CHLA_2005.CSV\n",
        "       Title:  White Clay Creek Chlorophyll/Pheophytin Data 2005\n",
        "Record Key:    http://71.185.29.35/stroudwater/StroudData/seston/CRB_SESTON_2001.CSV\n",
        "       Title:  White Clay Creek Seston Data 2001\n",
        "Record Key:    http://71.185.29.35/stroudwater/StroudData/seston/CRB_SESTON_1997.CSV\n",
        "       Title:  White Clay Creek Seston Data 1997\n",
        "Record Key:    http://71.185.29.35/stroudwater/StroudData/chemistry/CZO_CRB_WCC_0110_CHEM_GRAB_HEADER.csv\n",
        "       Title:  White Clay Creek Chemistry 2001-2010 Baseflow/Grab Samples\n",
        "Record Key:    http://71.185.29.35/stroudwater/StroudData/seston/CRB_SESTON_1999.CSV\n",
        "       Title:  White Clay Creek Seston Data 1999\n",
        "Record Key:    http://71.185.29.35/stroudwater/StroudData/seston/CRB_SESTON_1994.CSV\n",
        "       Title:  White Clay Creek Seston Data 1994\n",
        "Record Key:    http://71.185.29.35/stroudwater/StroudData/seston/CRB_SESTON_1993.CSV\n",
        "       Title:  White Clay Creek Seston Data 1993\n",
        "Record Key:    http://71.185.29.35/stroudwater/StroudData/seston/CRB_SESTON_2002.CSV\n",
        "       Title:  White Clay Creek Seston Data 2002\n",
        "Record Key:    http://71.185.29.35/stroudwater/StroudData/chemistry/CZO_CRB_WCC_0110_CHEM_AUTO_HEADER.csv\n",
        "       Title:  White Clay Creek Chemistry 2001-2010 Stormflow/Automatic Samples\n",
        "Record Key:    http://71.185.29.35/stroudwater/StroudData/chlorophyll/WCC_CHLA_2004.CSV\n",
        "       Title:  White Clay Creek Chlorophyll/Pheophytin Data 2004\n",
        "Record Key:    http://71.185.29.35/stroudwater/StroudData/chlorophyll/WCC_CHLA_2006.CSV\n",
        "       Title:  White Clay Creek Chlorophyll/Pheophytin Data 2006\n",
        "Record Key:    http://71.185.29.35/stroudwater/StroudData/well_waterlevel/CRB_WELL_WATERLEVEL_8812_HEADER.csv\n",
        "       Title:  Christina Watershed Well Water Levels\n",
        "Record Key:    http://71.185.29.35/stroudwater/StroudData/seston/CRB_SESTON_1996.CSV\n",
        "       Title:  White Clay Creek Seston Data 1996\n",
        "Record Key:    http://71.185.29.35/stroudwater/StroudData/chlorophyll/WCC_CHLA_2010.CSV\n",
        "       Title:  White Clay Creek Chlorophyll/Pheophytin Data 2010\n",
        "Record Key:    http://71.185.29.35/stroudwater/StroudData/hydrology/WCC926_STAGE_2010.CSV\n",
        "       Title:  White Clay Creek at 926 Stage Data 2010\n",
        "Record Key:    http://71.185.29.35/stroudwater/StroudData/seston/CRB_SESTON_2000.CSV\n",
        "       Title:  White Clay Creek Seston Data 2000\n",
        "Record Key:    http://71.185.29.35/stroudwater/StroudData/seston/CRB_SESTON_2003.CSV\n",
        "       Title:  White Clay Creek Seston Data 2003\n",
        "Record Key:    http://71.185.29.35/stroudwater/StroudData/hydrology/WCC926_STAGE_2009.CSV\n",
        "       Title:  White Clay Creek at 926 Stage Data 2009\n",
        "Record Key:    http://71.185.29.35/stroudwater/StroudData/chlorophyll/WCC_CHLA_2003.CSV\n",
        "       Title:  White Clay Creek Chlorophyll/Pheophytin Data 2003\n",
        "Record Key:    http://71.185.29.35/stroudwater/StroudData/seston/CRB_SESTON_1995.CSV\n",
        "       Title:  White Clay Creek Seston Data 1995\n",
        "Record Key:    http://71.185.29.35/stroudwater/StroudData/hydrology/WCC926_STAGE_2011.CSV\n",
        "       Title:  White Clay Creek at 926 Stage Data 2011\n"
       ]
      }
     ],
     "prompt_number": 5
    },
    {
     "cell_type": "markdown",
     "metadata": {},
     "source": [
      "Examine more closely one of the records. List its `dc:identifier` and `dc:reference` elements, then print the entire XML CSW record (which is made up mostly of Dublin Core elements)"
     ]
    },
    {
     "cell_type": "code",
     "collapsed": false,
     "input": [
      "crbrec1 = czocsw.records['http://71.185.29.35/stroudwater/StroudData/temperature/CRBCZO_STREAM_TEMPS_0712_HEADER.CSV']"
     ],
     "language": "python",
     "metadata": {},
     "outputs": [],
     "prompt_number": 6
    },
    {
     "cell_type": "code",
     "collapsed": false,
     "input": [
      "crbrec1.identifiers"
     ],
     "language": "python",
     "metadata": {},
     "outputs": [
      {
       "metadata": {},
       "output_type": "pyout",
       "prompt_number": 7,
       "text": [
        "[{'identifier': 'http://71.185.29.35/stroudwater/StroudData/temperature/CRBCZO_STREAM_TEMPS_0712_HEADER.CSV',\n",
        "  'scheme': 'urn:x-esri:specification:ServiceType:ArcIMS:Metadata:FileID'},\n",
        " {'identifier': '{B9245A44-F35A-42AB-826E-23EA250D307B}',\n",
        "  'scheme': 'urn:x-esri:specification:ServiceType:ArcIMS:Metadata:DocID'}]"
       ]
      }
     ],
     "prompt_number": 7
    },
    {
     "cell_type": "code",
     "collapsed": false,
     "input": [
      "crbrec1.references"
     ],
     "language": "python",
     "metadata": {},
     "outputs": [
      {
       "metadata": {},
       "output_type": "pyout",
       "prompt_number": 8,
       "text": [
        "[{'scheme': 'urn:x-esri:specification:ServiceType:ArcIMS:Metadata:Server',\n",
        "  'url': 'http://71.185.29.35/stroudwater/StroudData/temperature/CRBCZO_STREAM_TEMPS_0712_HEADER.CSV'},\n",
        " {'scheme': 'urn:x-esri:specification:ServiceType:ArcIMS:Metadata:Document',\n",
        "  'url': 'http://search.criticalzone.org/czoportal/csw?getxml=%7BB9245A44-F35A-42AB-826E-23EA250D307B%7D'}]"
       ]
      }
     ],
     "prompt_number": 8
    },
    {
     "cell_type": "code",
     "collapsed": false,
     "input": [
      "print crbrec1.xml"
     ],
     "language": "python",
     "metadata": {},
     "outputs": [
      {
       "output_type": "stream",
       "stream": "stdout",
       "text": [
        "<csw:Record xmlns:csw=\"http://www.opengis.net/cat/csw/2.0.2\" xmlns:dc=\"http://purl.org/dc/elements/1.1/\" xmlns:dcmiBox=\"http://dublincore.org/documents/2000/07/11/dcmi-box/\" xmlns:dct=\"http://purl.org/dc/terms/\" xmlns:gml=\"http://www.opengis.net/gml\" xmlns:ows=\"http://www.opengis.net/ows\" xmlns:xsd=\"http://www.w3.org/2001/XMLSchema\">\n",
        "<dc:identifier scheme=\"urn:x-esri:specification:ServiceType:ArcIMS:Metadata:FileID\">http://71.185.29.35/stroudwater/StroudData/temperature/CRBCZO_STREAM_TEMPS_0712_HEADER.CSV</dc:identifier>\n",
        "<dc:identifier scheme=\"urn:x-esri:specification:ServiceType:ArcIMS:Metadata:DocID\">{B9245A44-F35A-42AB-826E-23EA250D307B}</dc:identifier>\n",
        "<dc:title>Christina Watershed Stream Temperatures 2007-2012.</dc:title>\n",
        "<dc:type scheme=\"urn:x-esri:specification:ServiceType:ArcIMS:Metadata:ContentType\">downloadableData</dc:type>\n",
        "<dc:type scheme=\"urn:x-esri:specification:ServiceType:ArcIMS:Metadata:ContentType\">text/xml</dc:type>\n",
        "<dc:subject>Hydrology</dc:subject>\n",
        "<dc:subject>stream temperature</dc:subject>\n",
        "<dc:subject>stroud water research center</dc:subject>\n",
        "<dc:subject>christina river</dc:subject>\n",
        "<dct:modified>2014-09-22T15:38:36-07:00</dct:modified>\n",
        "<dct:abstract>Stream Temperatures CITATION:</dct:abstract>\n",
        "<dct:references scheme=\"urn:x-esri:specification:ServiceType:ArcIMS:Metadata:Server\">http://71.185.29.35/stroudwater/StroudData/temperature/CRBCZO_STREAM_TEMPS_0712_HEADER.CSV</dct:references>\n",
        "<dct:references scheme=\"urn:x-esri:specification:ServiceType:ArcIMS:Metadata:Document\">http://search.criticalzone.org/czoportal/csw?getxml=%7BB9245A44-F35A-42AB-826E-23EA250D307B%7D</dct:references>\n",
        "<ows:WGS84BoundingBox>\n",
        "<ows:LowerCorner>-75.851669 39.699222</ows:LowerCorner>\n",
        "<ows:UpperCorner>-75.65320725 39.94947199</ows:UpperCorner>\n",
        "</ows:WGS84BoundingBox>\n",
        "<ows:BoundingBox>\n",
        "<ows:LowerCorner>-75.851669 39.699222</ows:LowerCorner>\n",
        "<ows:UpperCorner>-75.65320725 39.94947199</ows:UpperCorner>\n",
        "</ows:BoundingBox>\n",
        "<dc:source>{43C8EA97-4CC6-4EC8-8BC1-3BF141E6625B}</dc:source>\n",
        "<dct:isPartOf>Issue|Christina</dct:isPartOf>\n",
        "</csw:Record>\n",
        "\n"
       ]
      }
     ],
     "prompt_number": 9
    },
    {
     "cell_type": "markdown",
     "metadata": {},
     "source": [
      "Using `fes.PropertyIsLike`, select records containing the title string \"White Clay Creek Chlorophyll/Pheophytin\". Note use of underscore in place of blank characters."
     ]
    },
    {
     "cell_type": "code",
     "collapsed": false,
     "input": [
      "searchtxt1 = fes.PropertyIsLike(propertyname='dc:title', literal='White_Clay_Creek_Chlorophyll/Pheophytin')\n",
      "czocsw.getrecords2(constraints=[searchtxt1], maxrecords=50,esn='full')\n",
      "czocsw.results"
     ],
     "language": "python",
     "metadata": {},
     "outputs": [
      {
       "metadata": {},
       "output_type": "pyout",
       "prompt_number": 10,
       "text": [
        "{'matches': 11, 'nextrecord': 0, 'returned': 11}"
       ]
      }
     ],
     "prompt_number": 10
    },
    {
     "cell_type": "code",
     "collapsed": false,
     "input": [
      "print 'Total # of catalog records: ', len(czocsw.records.keys())\n",
      "for reckey in czocsw.records.keys():\n",
      "    print 'Record Key: ', reckey\n",
      "    print '  Title:    ', czocsw.records[reckey].title\n",
      "    print '  Modified: ', czocsw.records[reckey].modified"
     ],
     "language": "python",
     "metadata": {},
     "outputs": [
      {
       "output_type": "stream",
       "stream": "stdout",
       "text": [
        "Total # of catalog records:  11\n",
        "Record Key:  http://71.185.29.35/stroudwater/StroudData/chlorophyll/WCC_CHLA_2002.CSV\n",
        "  Title:     White Clay Creek Chlorophyll/Pheophytin Data 2002\n",
        "  Modified:  2014-09-22T15:39:44-07:00\n",
        "Record Key:  http://71.185.29.35/stroudwater/StroudData/chlorophyll/WCC_CHLA_2001.CSV\n",
        "  Title:     White Clay Creek Chlorophyll/Pheophytin Data 2001\n",
        "  Modified:  2014-09-22T15:39:17-07:00\n",
        "Record Key:  http://71.185.29.35/stroudwater/StroudData/chlorophyll/WCC_CHLA_2010.CSV\n",
        "  Title:     White Clay Creek Chlorophyll/Pheophytin Data 2010\n",
        "  Modified:  2014-09-22T15:36:28-07:00\n",
        "Record Key:  http://71.185.29.35/stroudwater/StroudData/chlorophyll/WCC_CHLA_2004.CSV\n",
        "  Title:     White Clay Creek Chlorophyll/Pheophytin Data 2004\n",
        "  Modified:  2014-09-22T15:36:59-07:00\n",
        "Record Key:  http://71.185.29.35/stroudwater/StroudData/chlorophyll/WCC_CHLA_2007.CSV\n",
        "  Title:     White Clay Creek Chlorophyll/Pheophytin Data 2007\n",
        "  Modified:  2014-09-22T15:38:14-07:00\n",
        "Record Key:  http://71.185.29.35/stroudwater/StroudData/chlorophyll/WCC_CHLA_2009.CSV\n",
        "  Title:     White Clay Creek Chlorophyll/Pheophytin Data 2009\n",
        "  Modified:  2014-09-22T15:38:17-07:00\n",
        "Record Key:  http://71.185.29.35/stroudwater/StroudData/chlorophyll/WCC_CHLA_2005.CSV\n",
        "  Title:     White Clay Creek Chlorophyll/Pheophytin Data 2005\n",
        "  Modified:  2014-09-22T15:38:07-07:00\n",
        "Record Key:  http://71.185.29.35/stroudwater/StroudData/chlorophyll/WCC_CHLA_2008.CSV\n",
        "  Title:     White Clay Creek Chlorophyll/Pheophytin Data 2008\n",
        "  Modified:  2014-09-22T15:39:34-07:00\n",
        "Record Key:  http://71.185.29.35/stroudwater/StroudData/chlorophyll/WCC_CHLA_2006.CSV\n",
        "  Title:     White Clay Creek Chlorophyll/Pheophytin Data 2006\n",
        "  Modified:  2014-09-22T15:36:58-07:00\n",
        "Record Key:  http://71.185.29.35/stroudwater/StroudData/chlorophyll/WCC_CHLA_2003.CSV\n",
        "  Title:     White Clay Creek Chlorophyll/Pheophytin Data 2003\n",
        "  Modified:  2014-09-22T15:36:07-07:00\n",
        "Record Key:  {a4b3e388-b42a-33a6-b8fb-a57ff76ff977}\n",
        "  Title:     White Clay Creek - Chlorophyll - Pheophytin (2001-2012)\n",
        "  Modified:  2014-09-23T09:38:38-07:00\n"
       ]
      }
     ],
     "prompt_number": 11
    }
   ],
   "metadata": {}
  }
 ]
}
