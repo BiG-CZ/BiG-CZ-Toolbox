{
 "cells": [
  {
   "cell_type": "markdown",
   "metadata": {},
   "source": [
    "# WOFpy endpoint tests (with WaterML for R)"
   ]
  },
  {
   "cell_type": "markdown",
   "metadata": {},
   "source": [
    "This is a series of WOF endpoint tests with the `WaterML` package in R. The `WaterML` package is compatible with SOAP and REST protocols. Certain WOF endpoints are causing error in an inconstent manner, and this notebook helps explore those patterns. \n",
    "\n",
    "Written by Ben Crary. \n",
    "bcrary@limno.com "
   ]
  },
  {
   "cell_type": "code",
   "execution_count": 27,
   "metadata": {},
   "outputs": [
    {
     "name": "stderr",
     "output_type": "stream",
     "text": [
      "Installing package into 'C:/Users/bcrary/Documents/R/win-library/3.3'\n",
      "(as 'lib' is unspecified)\n",
      "Warning message:\n",
      "\"package 'WaterML' is in use and will not be installed\""
     ]
    }
   ],
   "source": [
    "install.packages(\"WaterML\",repos='http://cran.us.r-project.org')\n",
    "library(WaterML)"
   ]
  },
  {
   "cell_type": "markdown",
   "metadata": {},
   "source": [
    "### GetSites tests"
   ]
  },
  {
   "cell_type": "markdown",
   "metadata": {},
   "source": [
    "***SOAP 1.0***"
   ]
  },
  {
   "cell_type": "code",
   "execution_count": 7,
   "metadata": {},
   "outputs": [
    {
     "name": "stdout",
     "output_type": "stream",
     "text": [
      "[1] \"downloading sites from: http://odm2wofpy.uwrl.usu.edu:8080/odm2timeseries/soap/cuahsi_1_0/ ...\"\n",
      "[1] \"download time: 0.300000000000068 seconds, status: Success\"\n",
      "[1] \"reading sites WaterML data...\"\n"
     ]
    },
    {
     "data": {
      "text/html": [
       "<table>\n",
       "<thead><tr><th scope=col>SiteID</th><th scope=col>SiteName</th><th scope=col>SiteCode</th><th scope=col>FullSiteCode</th><th scope=col>Latitude</th><th scope=col>Longitude</th><th scope=col>Elevation</th><th scope=col>State</th><th scope=col>County</th><th scope=col>Comments</th></tr></thead>\n",
       "<tbody>\n",
       "\t<tr><td>96                    </td><td>Upper Rocky Run       </td><td>RockyUp               </td><td>odm2timeseries:RockyUp</td><td>39.8169               </td><td>-75.5505              </td><td>NA                    </td><td>NA                    </td><td>NA                    </td><td>NA                    </td></tr>\n",
       "</tbody>\n",
       "</table>\n"
      ],
      "text/latex": [
       "\\begin{tabular}{r|llllllllll}\n",
       " SiteID & SiteName & SiteCode & FullSiteCode & Latitude & Longitude & Elevation & State & County & Comments\\\\\n",
       "\\hline\n",
       "\t 96                     & Upper Rocky Run        & RockyUp                & odm2timeseries:RockyUp & 39.8169                & -75.5505               & NA                     & NA                     & NA                     & NA                    \\\\\n",
       "\\end{tabular}\n"
      ],
      "text/markdown": [
       "\n",
       "SiteID | SiteName | SiteCode | FullSiteCode | Latitude | Longitude | Elevation | State | County | Comments | \n",
       "|---|\n",
       "| 96                     | Upper Rocky Run        | RockyUp                | odm2timeseries:RockyUp | 39.8169                | -75.5505               | NA                     | NA                     | NA                     | NA                     | \n",
       "\n",
       "\n"
      ],
      "text/plain": [
       "  SiteID SiteName        SiteCode FullSiteCode           Latitude Longitude\n",
       "1 96     Upper Rocky Run RockyUp  odm2timeseries:RockyUp 39.8169  -75.5505 \n",
       "  Elevation State County Comments\n",
       "1 NA        NA    NA     NA      "
      ]
     },
     "metadata": {},
     "output_type": "display_data"
    }
   ],
   "source": [
    "#soap 1.0\n",
    "server <- \"http://odm2wofpy.uwrl.usu.edu:8080/odm2timeseries/soap/cuahsi_1_0/.wsdl\"\n",
    "sites1 <- GetSites(server)\n",
    "head(sites1, n=1)"
   ]
  },
  {
   "cell_type": "markdown",
   "metadata": {},
   "source": [
    "***SOAP 1.1***"
   ]
  },
  {
   "cell_type": "code",
   "execution_count": 8,
   "metadata": {},
   "outputs": [
    {
     "name": "stdout",
     "output_type": "stream",
     "text": [
      "[1] \"downloading sites from: http://odm2wofpy.uwrl.usu.edu:8080/odm2timeseries/soap/cuahsi_1_1/ ...\"\n",
      "[1] \"download time: 0.980000000000018 seconds, status: Success\"\n",
      "[1] \"reading sites WaterML data...\"\n"
     ]
    },
    {
     "data": {
      "text/html": [
       "<table>\n",
       "<thead><tr><th scope=col>SiteID</th><th scope=col>SiteName</th><th scope=col>SiteCode</th><th scope=col>FullSiteCode</th><th scope=col>Latitude</th><th scope=col>Longitude</th><th scope=col>Elevation</th><th scope=col>State</th><th scope=col>County</th><th scope=col>Comments</th></tr></thead>\n",
       "<tbody>\n",
       "\t<tr><td>96                    </td><td>Upper Rocky Run       </td><td>RockyUp               </td><td>odm2timeseries:RockyUp</td><td>39.8169               </td><td>-75.5505              </td><td>NA                    </td><td>NA                    </td><td>NA                    </td><td>NA                    </td></tr>\n",
       "</tbody>\n",
       "</table>\n"
      ],
      "text/latex": [
       "\\begin{tabular}{r|llllllllll}\n",
       " SiteID & SiteName & SiteCode & FullSiteCode & Latitude & Longitude & Elevation & State & County & Comments\\\\\n",
       "\\hline\n",
       "\t 96                     & Upper Rocky Run        & RockyUp                & odm2timeseries:RockyUp & 39.8169                & -75.5505               & NA                     & NA                     & NA                     & NA                    \\\\\n",
       "\\end{tabular}\n"
      ],
      "text/markdown": [
       "\n",
       "SiteID | SiteName | SiteCode | FullSiteCode | Latitude | Longitude | Elevation | State | County | Comments | \n",
       "|---|\n",
       "| 96                     | Upper Rocky Run        | RockyUp                | odm2timeseries:RockyUp | 39.8169                | -75.5505               | NA                     | NA                     | NA                     | NA                     | \n",
       "\n",
       "\n"
      ],
      "text/plain": [
       "  SiteID SiteName        SiteCode FullSiteCode           Latitude Longitude\n",
       "1 96     Upper Rocky Run RockyUp  odm2timeseries:RockyUp 39.8169  -75.5505 \n",
       "  Elevation State County Comments\n",
       "1 NA        NA    NA     NA      "
      ]
     },
     "metadata": {},
     "output_type": "display_data"
    }
   ],
   "source": [
    "#soap 1.1\n",
    "server <- \"http://odm2wofpy.uwrl.usu.edu:8080/odm2timeseries/soap/cuahsi_1_1/.wsdl\"\n",
    "sites2 <- GetSites(server)\n",
    "head(sites2, n=1)"
   ]
  },
  {
   "cell_type": "markdown",
   "metadata": {},
   "source": [
    "***REST 1.0***"
   ]
  },
  {
   "cell_type": "code",
   "execution_count": 10,
   "metadata": {},
   "outputs": [
    {
     "name": "stdout",
     "output_type": "stream",
     "text": [
      "[1] \"downloading sites from: http://odm2wofpy.uwrl.usu.edu:8080/odm2timeseries/rest/1_0/GetSites ...\"\n",
      "[1] \"download time: 0.379999999999995 seconds, status: Success\"\n",
      "[1] \"reading sites WaterML data...\"\n"
     ]
    },
    {
     "name": "stderr",
     "output_type": "stream",
     "text": [
      "No encoding supplied: defaulting to UTF-8.\n"
     ]
    },
    {
     "data": {
      "text/html": [
       "<table>\n",
       "<thead><tr><th scope=col>SiteID</th><th scope=col>SiteName</th><th scope=col>SiteCode</th><th scope=col>FullSiteCode</th><th scope=col>Latitude</th><th scope=col>Longitude</th><th scope=col>Elevation</th><th scope=col>State</th><th scope=col>County</th><th scope=col>Comments</th></tr></thead>\n",
       "<tbody>\n",
       "\t<tr><td>96                    </td><td>Upper Rocky Run       </td><td>RockyUp               </td><td>odm2timeseries:RockyUp</td><td>39.8169               </td><td>-75.5505              </td><td>NA                    </td><td>NA                    </td><td>NA                    </td><td>NA                    </td></tr>\n",
       "</tbody>\n",
       "</table>\n"
      ],
      "text/latex": [
       "\\begin{tabular}{r|llllllllll}\n",
       " SiteID & SiteName & SiteCode & FullSiteCode & Latitude & Longitude & Elevation & State & County & Comments\\\\\n",
       "\\hline\n",
       "\t 96                     & Upper Rocky Run        & RockyUp                & odm2timeseries:RockyUp & 39.8169                & -75.5505               & NA                     & NA                     & NA                     & NA                    \\\\\n",
       "\\end{tabular}\n"
      ],
      "text/markdown": [
       "\n",
       "SiteID | SiteName | SiteCode | FullSiteCode | Latitude | Longitude | Elevation | State | County | Comments | \n",
       "|---|\n",
       "| 96                     | Upper Rocky Run        | RockyUp                | odm2timeseries:RockyUp | 39.8169                | -75.5505               | NA                     | NA                     | NA                     | NA                     | \n",
       "\n",
       "\n"
      ],
      "text/plain": [
       "  SiteID SiteName        SiteCode FullSiteCode           Latitude Longitude\n",
       "1 96     Upper Rocky Run RockyUp  odm2timeseries:RockyUp 39.8169  -75.5505 \n",
       "  Elevation State County Comments\n",
       "1 NA        NA    NA     NA      "
      ]
     },
     "metadata": {},
     "output_type": "display_data"
    }
   ],
   "source": [
    "url <- \"http://odm2wofpy.uwrl.usu.edu:8080/odm2timeseries/rest/1_0/GetSites\"\n",
    "\n",
    "sites3 <- GetSites(url)\n",
    "head(sites3, n=1)"
   ]
  },
  {
   "cell_type": "markdown",
   "metadata": {},
   "source": [
    "***REST 1.1***"
   ]
  },
  {
   "cell_type": "code",
   "execution_count": 11,
   "metadata": {},
   "outputs": [
    {
     "name": "stdout",
     "output_type": "stream",
     "text": [
      "[1] \"downloading sites from: http://odm2wofpy.uwrl.usu.edu:8080/odm2timeseries/rest/1_1/GetSites ...\"\n",
      "[1] \"download time: 0.919999999999959 seconds, status: Success\"\n",
      "[1] \"reading sites WaterML data...\"\n"
     ]
    },
    {
     "name": "stderr",
     "output_type": "stream",
     "text": [
      "No encoding supplied: defaulting to UTF-8.\n"
     ]
    },
    {
     "ename": "ERROR",
     "evalue": "Error in data.frame(SiteID = SiteID, SiteName = SiteName, SiteCode = SiteCode, : arguments imply differing number of rows: 0, 1\n",
     "output_type": "error",
     "traceback": [
      "Error in data.frame(SiteID = SiteID, SiteName = SiteName, SiteCode = SiteCode, : arguments imply differing number of rows: 0, 1\nTraceback:\n",
      "1. GetSites(url)",
      "2. data.frame(SiteID = SiteID, SiteName = SiteName, SiteCode = SiteCode, \n .     FullSiteCode = paste(Network, SiteCode, sep = \":\"), Latitude = as.numeric(Latitude), \n .     Longitude = as.numeric(Longitude), Elevation = as.numeric(Elevation), \n .     State = State, County = County, Comments = Comments, stringsAsFactors = FALSE)",
      "3. stop(gettextf(\"arguments imply differing number of rows: %s\", \n .     paste(unique(nrows), collapse = \", \")), domain = NA)"
     ]
    }
   ],
   "source": [
    "url <- \"http://odm2wofpy.uwrl.usu.edu:8080/odm2timeseries/rest/1_1/GetSites\"\n",
    "\n",
    "sites4 <- GetSites(url)\n",
    "head(sites4, n=1)"
   ]
  },
  {
   "cell_type": "markdown",
   "metadata": {},
   "source": [
    "### GetValues tests"
   ]
  },
  {
   "cell_type": "markdown",
   "metadata": {},
   "source": [
    "***Soap 1.0***"
   ]
  },
  {
   "cell_type": "code",
   "execution_count": 2,
   "metadata": {},
   "outputs": [
    {
     "name": "stdout",
     "output_type": "stream",
     "text": [
      "[1] \"downloading values from: http://odm2wofpy.uwrl.usu.edu:8080/odm2timeseries/soap/cuahsi_1_0/ ...\"\n",
      "[1] \"download time: 2.61000000000001 seconds, status: Success\"\n",
      "[1] \"reading data values WaterML ...\"\n"
     ]
    },
    {
     "data": {
      "text/html": [
       "<ol class=list-inline>\n",
       "\t<li>11</li>\n",
       "\t<li>9</li>\n",
       "</ol>\n"
      ],
      "text/latex": [
       "\\begin{enumerate*}\n",
       "\\item 11\n",
       "\\item 9\n",
       "\\end{enumerate*}\n"
      ],
      "text/markdown": [
       "1. 11\n",
       "2. 9\n",
       "\n",
       "\n"
      ],
      "text/plain": [
       "[1] 11  9"
      ]
     },
     "metadata": {},
     "output_type": "display_data"
    }
   ],
   "source": [
    "#soap 1.0\n",
    "server <- \"http://odm2wofpy.uwrl.usu.edu:8080/odm2timeseries/soap/cuahsi_1_0/.wsdl\"\n",
    "sitecode <- \"odm2timeseries:160065_4vars\"\n",
    "variablecode <- \"odm2timeseries:EnviroDIY_Mayfly_Temp\"\n",
    "\n",
    "#Soap Test: \n",
    "test1 <- GetValues(server, siteCode=sitecode, variableCode=variablecode)\n",
    "dim(test)"
   ]
  },
  {
   "cell_type": "markdown",
   "metadata": {},
   "source": [
    "***Soap 1.1***"
   ]
  },
  {
   "cell_type": "code",
   "execution_count": 3,
   "metadata": {},
   "outputs": [
    {
     "name": "stdout",
     "output_type": "stream",
     "text": [
      "[1] \"downloading values from: http://odm2wofpy.uwrl.usu.edu:8080/odm2timeseries/soap/cuahsi_1_1/ ...\"\n",
      "[1] \"download time: 2.21000000000001 seconds, status: Success\"\n",
      "[1] \"reading data values WaterML ...\"\n"
     ]
    },
    {
     "data": {
      "text/html": [
       "<ol class=list-inline>\n",
       "\t<li>11</li>\n",
       "\t<li>9</li>\n",
       "</ol>\n"
      ],
      "text/latex": [
       "\\begin{enumerate*}\n",
       "\\item 11\n",
       "\\item 9\n",
       "\\end{enumerate*}\n"
      ],
      "text/markdown": [
       "1. 11\n",
       "2. 9\n",
       "\n",
       "\n"
      ],
      "text/plain": [
       "[1] 11  9"
      ]
     },
     "metadata": {},
     "output_type": "display_data"
    }
   ],
   "source": [
    "#soap 1.1\n",
    "server <- \"http://odm2wofpy.uwrl.usu.edu:8080/odm2timeseries/soap/cuahsi_1_1/.wsdl\"\n",
    "sitecode <- \"odm2timeseries:160065_4vars\"\n",
    "variablecode <- \"odm2timeseries:EnviroDIY_Mayfly_Temp\"\n",
    "\n",
    "#Soap Test: \n",
    "test2 <- GetValues(server, siteCode=sitecode, variableCode=variablecode)\n",
    "dim(test)\n"
   ]
  },
  {
   "cell_type": "markdown",
   "metadata": {},
   "source": [
    "***Rest 1.0***"
   ]
  },
  {
   "cell_type": "code",
   "execution_count": 4,
   "metadata": {},
   "outputs": [
    {
     "name": "stdout",
     "output_type": "stream",
     "text": [
      "[1] \"downloading values from: http://odm2wofpy.uwrl.usu.edu:8080/odm2timeseries/rest/1_0/GetValues?location=odm2timeseries:160065_4vars&variable=odm2timeseries:EnviroDIY_Mayfly_Temp ...\"\n",
      "[1] \"download time: 2.21000000000004 seconds, status: Success\"\n",
      "[1] \"reading data values WaterML ...\"\n",
      "[1] \"Error reading WaterML: Bad XML format. <timeSeries> tag not found.\"\n"
     ]
    },
    {
     "data": {
      "text/html": [
       "<ol class=list-inline>\n",
       "\t<li>0</li>\n",
       "\t<li>0</li>\n",
       "</ol>\n"
      ],
      "text/latex": [
       "\\begin{enumerate*}\n",
       "\\item 0\n",
       "\\item 0\n",
       "\\end{enumerate*}\n"
      ],
      "text/markdown": [
       "1. 0\n",
       "2. 0\n",
       "\n",
       "\n"
      ],
      "text/plain": [
       "[1] 0 0"
      ]
     },
     "metadata": {},
     "output_type": "display_data"
    }
   ],
   "source": [
    "#rest 1.0 \n",
    "url <- \"http://odm2wofpy.uwrl.usu.edu:8080/odm2timeseries/rest/1_0/GetValues?location=odm2timeseries:160065_4vars&variable=odm2timeseries:EnviroDIY_Mayfly_Temp\"\n",
    "\n",
    "#rest test\n",
    "test3 <- GetValues(url)\n",
    "dim(test)\n"
   ]
  },
  {
   "cell_type": "markdown",
   "metadata": {},
   "source": [
    "***Rest 1.1***"
   ]
  },
  {
   "cell_type": "code",
   "execution_count": 5,
   "metadata": {},
   "outputs": [
    {
     "name": "stdout",
     "output_type": "stream",
     "text": [
      "[1] \"downloading values from: http://odm2wofpy.uwrl.usu.edu:8080/odm2timeseries/rest/1_1/GetValues?location=odm2timeseries:160065_4vars&variable=odm2timeseries:EnviroDIY_Mayfly_Temp ...\"\n",
      "[1] \"download time: 1.78999999999996 seconds, status: Success\"\n",
      "[1] \"reading data values WaterML ...\"\n"
     ]
    },
    {
     "data": {
      "text/html": [
       "<ol class=list-inline>\n",
       "\t<li>11</li>\n",
       "\t<li>9</li>\n",
       "</ol>\n"
      ],
      "text/latex": [
       "\\begin{enumerate*}\n",
       "\\item 11\n",
       "\\item 9\n",
       "\\end{enumerate*}\n"
      ],
      "text/markdown": [
       "1. 11\n",
       "2. 9\n",
       "\n",
       "\n"
      ],
      "text/plain": [
       "[1] 11  9"
      ]
     },
     "metadata": {},
     "output_type": "display_data"
    }
   ],
   "source": [
    "#rest 1.1 \n",
    "url <- \"http://odm2wofpy.uwrl.usu.edu:8080/odm2timeseries/rest/1_1/GetValues?location=odm2timeseries:160065_4vars&variable=odm2timeseries:EnviroDIY_Mayfly_Temp\"\n",
    "\n",
    "#rest test\n",
    "test4 <- GetValues(url)\n",
    "dim(test)\n"
   ]
  },
  {
   "cell_type": "markdown",
   "metadata": {},
   "source": [
    "### GetVariables tests"
   ]
  },
  {
   "cell_type": "markdown",
   "metadata": {},
   "source": [
    "***SOAP 1.0***"
   ]
  },
  {
   "cell_type": "code",
   "execution_count": 13,
   "metadata": {},
   "outputs": [
    {
     "name": "stdout",
     "output_type": "stream",
     "text": [
      "[1] \"GetVariables from http://odm2wofpy.uwrl.usu.edu:8080/odm2timeseries/soap/cuahsi_1_0/\"\n",
      "[1] \"download time: 4.53999999999996 seconds, status: Success\"\n",
      "[1] \"reading variables WaterML data...\"\n"
     ]
    },
    {
     "data": {
      "text/html": [
       "<table>\n",
       "<thead><tr><th scope=col>VariableCode</th><th scope=col>FullVariableCode</th><th scope=col>VariableName</th><th scope=col>ValueType</th><th scope=col>DataType</th><th scope=col>GeneralCategory</th><th scope=col>SampleMedium</th><th scope=col>UnitName</th><th scope=col>UnitType</th><th scope=col>UnitAbbreviation</th><th scope=col>NoDataValue</th><th scope=col>IsRegular</th><th scope=col>TimeUnitName</th><th scope=col>TimeUnitAbbreviation</th><th scope=col>TimeSupport</th><th scope=col>Speciation</th></tr></thead>\n",
       "<tbody>\n",
       "\t<tr><td>EnviroDIY_Mayfly_Temp               </td><td>odm2timeseries:EnviroDIY_Mayfly_Temp</td><td>Temperature                         </td><td>Unknown                             </td><td>Unknown                             </td><td>Unknown                             </td><td>Unknown                             </td><td>degree celsius                      </td><td>Temperature                         </td><td>degC                                </td><td>-9999                               </td><td>NA                                  </td><td>hour minute                         </td><td>hm                                  </td><td>1                                   </td><td>NA                                  </td></tr>\n",
       "</tbody>\n",
       "</table>\n"
      ],
      "text/latex": [
       "\\begin{tabular}{r|llllllllllllllll}\n",
       " VariableCode & FullVariableCode & VariableName & ValueType & DataType & GeneralCategory & SampleMedium & UnitName & UnitType & UnitAbbreviation & NoDataValue & IsRegular & TimeUnitName & TimeUnitAbbreviation & TimeSupport & Speciation\\\\\n",
       "\\hline\n",
       "\t EnviroDIY\\_Mayfly\\_Temp                & odm2timeseries:EnviroDIY\\_Mayfly\\_Temp & Temperature                              & Unknown                                  & Unknown                                  & Unknown                                  & Unknown                                  & degree celsius                           & Temperature                              & degC                                     & -9999                                    & NA                                       & hour minute                              & hm                                       & 1                                        & NA                                      \\\\\n",
       "\\end{tabular}\n"
      ],
      "text/markdown": [
       "\n",
       "VariableCode | FullVariableCode | VariableName | ValueType | DataType | GeneralCategory | SampleMedium | UnitName | UnitType | UnitAbbreviation | NoDataValue | IsRegular | TimeUnitName | TimeUnitAbbreviation | TimeSupport | Speciation | \n",
       "|---|\n",
       "| EnviroDIY_Mayfly_Temp                | odm2timeseries:EnviroDIY_Mayfly_Temp | Temperature                          | Unknown                              | Unknown                              | Unknown                              | Unknown                              | degree celsius                       | Temperature                          | degC                                 | -9999                                | NA                                   | hour minute                          | hm                                   | 1                                    | NA                                   | \n",
       "\n",
       "\n"
      ],
      "text/plain": [
       "  VariableCode          FullVariableCode                     VariableName\n",
       "1 EnviroDIY_Mayfly_Temp odm2timeseries:EnviroDIY_Mayfly_Temp Temperature \n",
       "  ValueType DataType GeneralCategory SampleMedium UnitName       UnitType   \n",
       "1 Unknown   Unknown  Unknown         Unknown      degree celsius Temperature\n",
       "  UnitAbbreviation NoDataValue IsRegular TimeUnitName TimeUnitAbbreviation\n",
       "1 degC             -9999       NA        hour minute  hm                  \n",
       "  TimeSupport Speciation\n",
       "1 1           NA        "
      ]
     },
     "metadata": {},
     "output_type": "display_data"
    }
   ],
   "source": [
    "server <- \"http://odm2wofpy.uwrl.usu.edu:8080/odm2timeseries/soap/cuahsi_1_0/.wsdl\"\n",
    "\n",
    "vars1 <- GetVariables(server)\n",
    "head(vars1, n=1)"
   ]
  },
  {
   "cell_type": "markdown",
   "metadata": {},
   "source": [
    "***SOAP 1.1***"
   ]
  },
  {
   "cell_type": "code",
   "execution_count": 15,
   "metadata": {},
   "outputs": [
    {
     "name": "stdout",
     "output_type": "stream",
     "text": [
      "[1] \"GetVariables from http://odm2wofpy.uwrl.usu.edu:8080/odm2timeseries/soap/cuahsi_1_1/\"\n",
      "[1] \"download time: 5.46000000000004 seconds, status: Success\"\n",
      "[1] \"reading variables WaterML data...\"\n"
     ]
    },
    {
     "data": {
      "text/html": [
       "<table>\n",
       "<thead><tr><th scope=col>VariableCode</th><th scope=col>FullVariableCode</th><th scope=col>VariableName</th><th scope=col>ValueType</th><th scope=col>DataType</th><th scope=col>GeneralCategory</th><th scope=col>SampleMedium</th><th scope=col>UnitName</th><th scope=col>UnitType</th><th scope=col>UnitAbbreviation</th><th scope=col>NoDataValue</th><th scope=col>IsRegular</th><th scope=col>TimeUnitName</th><th scope=col>TimeUnitAbbreviation</th><th scope=col>TimeSupport</th><th scope=col>Speciation</th></tr></thead>\n",
       "<tbody>\n",
       "\t<tr><td>EnviroDIY_Mayfly_Temp               </td><td>odm2timeseries:EnviroDIY_Mayfly_Temp</td><td>Temperature                         </td><td>Unknown                             </td><td>Unknown                             </td><td>Unknown                             </td><td>Unknown                             </td><td>degree celsius                      </td><td>Temperature                         </td><td>degC                                </td><td>-9999                               </td><td>NA                                  </td><td>hour minute                         </td><td>hm                                  </td><td>1.                                  </td><td>NA                                  </td></tr>\n",
       "\t<tr><td>Decagon_CTD-10_EC                   </td><td>odm2timeseries:Decagon_CTD-10_EC    </td><td>Electrical conductivity             </td><td>Unknown                             </td><td>Unknown                             </td><td>Unknown                             </td><td>Unknown                             </td><td>Microsiemen per Centimeter          </td><td>Dimensionless                       </td><td>uS/cm                               </td><td>-9999                               </td><td>NA                                  </td><td>hour minute                         </td><td>hm                                  </td><td>1.                                  </td><td>NA                                  </td></tr>\n",
       "</tbody>\n",
       "</table>\n"
      ],
      "text/latex": [
       "\\begin{tabular}{r|llllllllllllllll}\n",
       " VariableCode & FullVariableCode & VariableName & ValueType & DataType & GeneralCategory & SampleMedium & UnitName & UnitType & UnitAbbreviation & NoDataValue & IsRegular & TimeUnitName & TimeUnitAbbreviation & TimeSupport & Speciation\\\\\n",
       "\\hline\n",
       "\t EnviroDIY\\_Mayfly\\_Temp                & odm2timeseries:EnviroDIY\\_Mayfly\\_Temp & Temperature                              & Unknown                                  & Unknown                                  & Unknown                                  & Unknown                                  & degree celsius                           & Temperature                              & degC                                     & -9999                                    & NA                                       & hour minute                              & hm                                       & 1.                                       & NA                                      \\\\\n",
       "\t Decagon\\_CTD-10\\_EC                    & odm2timeseries:Decagon\\_CTD-10\\_EC     & Electrical conductivity                  & Unknown                                  & Unknown                                  & Unknown                                  & Unknown                                  & Microsiemen per Centimeter               & Dimensionless                            & uS/cm                                    & -9999                                    & NA                                       & hour minute                              & hm                                       & 1.                                       & NA                                      \\\\\n",
       "\\end{tabular}\n"
      ],
      "text/markdown": [
       "\n",
       "VariableCode | FullVariableCode | VariableName | ValueType | DataType | GeneralCategory | SampleMedium | UnitName | UnitType | UnitAbbreviation | NoDataValue | IsRegular | TimeUnitName | TimeUnitAbbreviation | TimeSupport | Speciation | \n",
       "|---|---|\n",
       "| EnviroDIY_Mayfly_Temp                | odm2timeseries:EnviroDIY_Mayfly_Temp | Temperature                          | Unknown                              | Unknown                              | Unknown                              | Unknown                              | degree celsius                       | Temperature                          | degC                                 | -9999                                | NA                                   | hour minute                          | hm                                   | 1.                                   | NA                                   | \n",
       "| Decagon_CTD-10_EC                    | odm2timeseries:Decagon_CTD-10_EC     | Electrical conductivity              | Unknown                              | Unknown                              | Unknown                              | Unknown                              | Microsiemen per Centimeter           | Dimensionless                        | uS/cm                                | -9999                                | NA                                   | hour minute                          | hm                                   | 1.                                   | NA                                   | \n",
       "\n",
       "\n"
      ],
      "text/plain": [
       "  VariableCode          FullVariableCode                    \n",
       "1 EnviroDIY_Mayfly_Temp odm2timeseries:EnviroDIY_Mayfly_Temp\n",
       "2 Decagon_CTD-10_EC     odm2timeseries:Decagon_CTD-10_EC    \n",
       "  VariableName            ValueType DataType GeneralCategory SampleMedium\n",
       "1 Temperature             Unknown   Unknown  Unknown         Unknown     \n",
       "2 Electrical conductivity Unknown   Unknown  Unknown         Unknown     \n",
       "  UnitName                   UnitType      UnitAbbreviation NoDataValue\n",
       "1 degree celsius             Temperature   degC             -9999      \n",
       "2 Microsiemen per Centimeter Dimensionless uS/cm            -9999      \n",
       "  IsRegular TimeUnitName TimeUnitAbbreviation TimeSupport Speciation\n",
       "1 NA        hour minute  hm                   1.          NA        \n",
       "2 NA        hour minute  hm                   1.          NA        "
      ]
     },
     "metadata": {},
     "output_type": "display_data"
    }
   ],
   "source": [
    "server <- \"http://odm2wofpy.uwrl.usu.edu:8080/odm2timeseries/soap/cuahsi_1_1/.wsdl\"\n",
    "vars2 <- GetVariables(server)\n",
    "head(vars2, n=2)\n"
   ]
  },
  {
   "cell_type": "markdown",
   "metadata": {},
   "source": [
    "***REST 1.0***"
   ]
  },
  {
   "cell_type": "code",
   "execution_count": 16,
   "metadata": {},
   "outputs": [
    {
     "name": "stdout",
     "output_type": "stream",
     "text": [
      "[1] \"downloading variables from: http://odm2wofpy.uwrl.usu.edu:8080/odm2timeseries/rest/1_0/GetVariableInfo ...\"\n",
      "[1] \"download time: 4.72000000000003 seconds, status: Success\"\n",
      "[1] \"reading variables WaterML data...\"\n"
     ]
    },
    {
     "name": "stderr",
     "output_type": "stream",
     "text": [
      "No encoding supplied: defaulting to UTF-8.\n",
      "Warning message in if (version == \"1.0\") {:\n",
      "\"the condition has length > 1 and only the first element will be used\""
     ]
    },
    {
     "ename": "ERROR",
     "evalue": "Error in vars[[i]]: subscript out of bounds\n",
     "output_type": "error",
     "traceback": [
      "Error in vars[[i]]: subscript out of bounds\nTraceback:\n",
      "1. GetVariables(url)"
     ]
    }
   ],
   "source": [
    "url <- \"http://odm2wofpy.uwrl.usu.edu:8080/odm2timeseries/rest/1_0/GetVariableInfo\"\n",
    "\n",
    "vars3 <- GetVariables(url)\n",
    "head(vars3, n=2)"
   ]
  },
  {
   "cell_type": "markdown",
   "metadata": {},
   "source": [
    "***REST 1.1***"
   ]
  },
  {
   "cell_type": "code",
   "execution_count": 17,
   "metadata": {},
   "outputs": [
    {
     "name": "stdout",
     "output_type": "stream",
     "text": [
      "[1] \"downloading variables from: http://odm2wofpy.uwrl.usu.edu:8080/odm2timeseries/rest/1_1/GetVariableInfo ...\"\n",
      "[1] \"download time: 4.80000000000018 seconds, status: Success\"\n",
      "[1] \"reading variables WaterML data...\"\n"
     ]
    },
    {
     "name": "stderr",
     "output_type": "stream",
     "text": [
      "No encoding supplied: defaulting to UTF-8.\n",
      "Warning message in if (version == \"1.0\") {:\n",
      "\"the condition has length > 1 and only the first element will be used\"Warning message in if (version == \"1.1\") {:\n",
      "\"the condition has length > 1 and only the first element will be used\"Warning message in if (version == \"1.1\") {:\n",
      "\"the condition has length > 1 and only the first element will be used\"Warning message in if (version == \"1.1\") {:\n",
      "\"the condition has length > 1 and only the first element will be used\"Warning message in if (version == \"1.1\") {:\n",
      "\"the condition has length > 1 and only the first element will be used\"Warning message in if (version == \"1.1\") {:\n",
      "\"the condition has length > 1 and only the first element will be used\"Warning message in if (version == \"1.1\") {:\n",
      "\"the condition has length > 1 and only the first element will be used\"Warning message in if (version == \"1.1\") {:\n",
      "\"the condition has length > 1 and only the first element will be used\"Warning message in if (version == \"1.1\") {:\n",
      "\"the condition has length > 1 and only the first element will be used\"Warning message in if (version == \"1.1\") {:\n",
      "\"the condition has length > 1 and only the first element will be used\"Warning message in if (version == \"1.1\") {:\n",
      "\"the condition has length > 1 and only the first element will be used\"Warning message in if (version == \"1.1\") {:\n",
      "\"the condition has length > 1 and only the first element will be used\"Warning message in if (version == \"1.1\") {:\n",
      "\"the condition has length > 1 and only the first element will be used\"Warning message in if (version == \"1.1\") {:\n",
      "\"the condition has length > 1 and only the first element will be used\"Warning message in if (version == \"1.1\") {:\n",
      "\"the condition has length > 1 and only the first element will be used\"Warning message in if (version == \"1.1\") {:\n",
      "\"the condition has length > 1 and only the first element will be used\"Warning message in if (version == \"1.1\") {:\n",
      "\"the condition has length > 1 and only the first element will be used\"Warning message in if (version == \"1.1\") {:\n",
      "\"the condition has length > 1 and only the first element will be used\"Warning message in if (version == \"1.1\") {:\n",
      "\"the condition has length > 1 and only the first element will be used\"Warning message in if (version == \"1.1\") {:\n",
      "\"the condition has length > 1 and only the first element will be used\"Warning message in if (version == \"1.1\") {:\n",
      "\"the condition has length > 1 and only the first element will be used\""
     ]
    },
    {
     "data": {
      "text/html": [
       "<table>\n",
       "<thead><tr><th scope=col>VariableCode</th><th scope=col>FullVariableCode</th><th scope=col>VariableName</th><th scope=col>ValueType</th><th scope=col>DataType</th><th scope=col>GeneralCategory</th><th scope=col>SampleMedium</th><th scope=col>UnitName</th><th scope=col>UnitType</th><th scope=col>UnitAbbreviation</th><th scope=col>NoDataValue</th><th scope=col>IsRegular</th><th scope=col>TimeUnitName</th><th scope=col>TimeUnitAbbreviation</th><th scope=col>TimeSupport</th><th scope=col>Speciation</th></tr></thead>\n",
       "<tbody>\n",
       "\t<tr><td>EnviroDIY_Mayfly_Temp               </td><td>odm2timeseries:EnviroDIY_Mayfly_Temp</td><td>Temperature                         </td><td>Unknown                             </td><td>Unknown                             </td><td>Unknown                             </td><td>Unknown                             </td><td>NA                                  </td><td>NA                                  </td><td>NA                                  </td><td>NA                                  </td><td>NA                                  </td><td>NA                                  </td><td>NA                                  </td><td>NA                                  </td><td>NA                                  </td></tr>\n",
       "\t<tr><td>Decagon_CTD-10_EC                   </td><td>odm2timeseries:Decagon_CTD-10_EC    </td><td>Electrical conductivity             </td><td>Unknown                             </td><td>Unknown                             </td><td>Unknown                             </td><td>Unknown                             </td><td>NA                                  </td><td>NA                                  </td><td>NA                                  </td><td>NA                                  </td><td>NA                                  </td><td>NA                                  </td><td>NA                                  </td><td>NA                                  </td><td>NA                                  </td></tr>\n",
       "</tbody>\n",
       "</table>\n"
      ],
      "text/latex": [
       "\\begin{tabular}{r|llllllllllllllll}\n",
       " VariableCode & FullVariableCode & VariableName & ValueType & DataType & GeneralCategory & SampleMedium & UnitName & UnitType & UnitAbbreviation & NoDataValue & IsRegular & TimeUnitName & TimeUnitAbbreviation & TimeSupport & Speciation\\\\\n",
       "\\hline\n",
       "\t EnviroDIY\\_Mayfly\\_Temp                & odm2timeseries:EnviroDIY\\_Mayfly\\_Temp & Temperature                              & Unknown                                  & Unknown                                  & Unknown                                  & Unknown                                  & NA                                       & NA                                       & NA                                       & NA                                       & NA                                       & NA                                       & NA                                       & NA                                       & NA                                      \\\\\n",
       "\t Decagon\\_CTD-10\\_EC                    & odm2timeseries:Decagon\\_CTD-10\\_EC     & Electrical conductivity                  & Unknown                                  & Unknown                                  & Unknown                                  & Unknown                                  & NA                                       & NA                                       & NA                                       & NA                                       & NA                                       & NA                                       & NA                                       & NA                                       & NA                                      \\\\\n",
       "\\end{tabular}\n"
      ],
      "text/markdown": [
       "\n",
       "VariableCode | FullVariableCode | VariableName | ValueType | DataType | GeneralCategory | SampleMedium | UnitName | UnitType | UnitAbbreviation | NoDataValue | IsRegular | TimeUnitName | TimeUnitAbbreviation | TimeSupport | Speciation | \n",
       "|---|---|\n",
       "| EnviroDIY_Mayfly_Temp                | odm2timeseries:EnviroDIY_Mayfly_Temp | Temperature                          | Unknown                              | Unknown                              | Unknown                              | Unknown                              | NA                                   | NA                                   | NA                                   | NA                                   | NA                                   | NA                                   | NA                                   | NA                                   | NA                                   | \n",
       "| Decagon_CTD-10_EC                    | odm2timeseries:Decagon_CTD-10_EC     | Electrical conductivity              | Unknown                              | Unknown                              | Unknown                              | Unknown                              | NA                                   | NA                                   | NA                                   | NA                                   | NA                                   | NA                                   | NA                                   | NA                                   | NA                                   | \n",
       "\n",
       "\n"
      ],
      "text/plain": [
       "  VariableCode          FullVariableCode                    \n",
       "1 EnviroDIY_Mayfly_Temp odm2timeseries:EnviroDIY_Mayfly_Temp\n",
       "2 Decagon_CTD-10_EC     odm2timeseries:Decagon_CTD-10_EC    \n",
       "  VariableName            ValueType DataType GeneralCategory SampleMedium\n",
       "1 Temperature             Unknown   Unknown  Unknown         Unknown     \n",
       "2 Electrical conductivity Unknown   Unknown  Unknown         Unknown     \n",
       "  UnitName UnitType UnitAbbreviation NoDataValue IsRegular TimeUnitName\n",
       "1 NA       NA       NA               NA          NA        NA          \n",
       "2 NA       NA       NA               NA          NA        NA          \n",
       "  TimeUnitAbbreviation TimeSupport Speciation\n",
       "1 NA                   NA          NA        \n",
       "2 NA                   NA          NA        "
      ]
     },
     "metadata": {},
     "output_type": "display_data"
    }
   ],
   "source": [
    "url <- \"http://odm2wofpy.uwrl.usu.edu:8080/odm2timeseries/rest/1_1/GetVariableInfo\"\n",
    "\n",
    "vars4 <- GetVariables(url)\n",
    "head(vars4, n=2)"
   ]
  },
  {
   "cell_type": "markdown",
   "metadata": {},
   "source": [
    "### GetSiteInfo Tests"
   ]
  },
  {
   "cell_type": "markdown",
   "metadata": {},
   "source": [
    "***SOAP 1.0***"
   ]
  },
  {
   "cell_type": "code",
   "execution_count": 18,
   "metadata": {},
   "outputs": [
    {
     "name": "stdout",
     "output_type": "stream",
     "text": [
      "[1] \"downloading SiteInfo from: http://odm2wofpy.uwrl.usu.edu:8080/odm2timeseries/soap/cuahsi_1_0/\"\n",
      "[1] \"download time: 0.809999999999945 seconds, status: Success\"\n"
     ]
    },
    {
     "data": {
      "text/html": [
       "<table>\n",
       "<thead><tr><th scope=col>SiteName</th><th scope=col>SiteID</th><th scope=col>SiteCode</th><th scope=col>FullSiteCode</th><th scope=col>Latitude</th><th scope=col>Longitude</th><th scope=col>Elevation</th><th scope=col>State</th><th scope=col>County</th><th scope=col>Comments</th><th scope=col>...</th><th scope=col>sourceDescription</th><th scope=col>citation</th><th scope=col>qualityControlLevelID</th><th scope=col>qualityControlLevelCode</th><th scope=col>qualityControlLevelDefinition</th><th scope=col>valueCount</th><th scope=col>beginDateTime</th><th scope=col>endDateTime</th><th scope=col>beginDateTimeUTC</th><th scope=col>endDateTimeUTC</th></tr></thead>\n",
       "<tbody>\n",
       "\t<tr><td>160065 Crosslands Pond with 4 variables </td><td>112                                     </td><td>160065_4vars                            </td><td>odm2timeseries:160065_4vars             </td><td>44.95061                                </td><td>-92.95508                               </td><td>NA                                      </td><td>NA                                      </td><td>NA                                      </td><td>NA                                      </td><td>...                                     </td><td>Water Environment | Scientists Engineers</td><td>NA                                      </td><td>1                                       </td><td>1                                       </td><td>Raw                                     </td><td>11                                      </td><td>2017-04-21 18:16:41                     </td><td>2017-04-22 01:52:02                     </td><td>2017-04-21 18:16:41                     </td><td>2017-04-22 01:52:02                     </td></tr>\n",
       "\t<tr><td>160065 Crosslands Pond with 4 variables </td><td>112                                     </td><td>160065_4vars                            </td><td>odm2timeseries:160065_4vars             </td><td>44.95061                                </td><td>-92.95508                               </td><td>NA                                      </td><td>NA                                      </td><td>NA                                      </td><td>NA                                      </td><td>...                                     </td><td>Water Environment | Scientists Engineers</td><td>NA                                      </td><td>1                                       </td><td>1                                       </td><td>Raw                                     </td><td>11                                      </td><td>2017-04-21 18:16:41                     </td><td>2017-04-22 01:52:02                     </td><td>2017-04-21 18:16:41                     </td><td>2017-04-22 01:52:02                     </td></tr>\n",
       "\t<tr><td>160065 Crosslands Pond with 4 variables </td><td>112                                     </td><td>160065_4vars                            </td><td>odm2timeseries:160065_4vars             </td><td>44.95061                                </td><td>-92.95508                               </td><td>NA                                      </td><td>NA                                      </td><td>NA                                      </td><td>NA                                      </td><td>...                                     </td><td>Water Environment | Scientists Engineers</td><td>NA                                      </td><td>1                                       </td><td>1                                       </td><td>Raw                                     </td><td>11                                      </td><td>2017-04-21 18:16:41                     </td><td>2017-04-22 01:52:02                     </td><td>2017-04-21 18:16:41                     </td><td>2017-04-22 01:52:02                     </td></tr>\n",
       "\t<tr><td>160065 Crosslands Pond with 4 variables </td><td>112                                     </td><td>160065_4vars                            </td><td>odm2timeseries:160065_4vars             </td><td>44.95061                                </td><td>-92.95508                               </td><td>NA                                      </td><td>NA                                      </td><td>NA                                      </td><td>NA                                      </td><td>...                                     </td><td>Water Environment | Scientists Engineers</td><td>NA                                      </td><td>1                                       </td><td>1                                       </td><td>Raw                                     </td><td>11                                      </td><td>2017-04-21 18:16:41                     </td><td>2017-04-22 01:52:02                     </td><td>2017-04-21 18:16:41                     </td><td>2017-04-22 01:52:02                     </td></tr>\n",
       "</tbody>\n",
       "</table>\n"
      ],
      "text/latex": [
       "\\begin{tabular}{r|llllllllllllllllllllllllllllllllllllllllll}\n",
       " SiteName & SiteID & SiteCode & FullSiteCode & Latitude & Longitude & Elevation & State & County & Comments & ... & sourceDescription & citation & qualityControlLevelID & qualityControlLevelCode & qualityControlLevelDefinition & valueCount & beginDateTime & endDateTime & beginDateTimeUTC & endDateTimeUTC\\\\\n",
       "\\hline\n",
       "\t 160065 Crosslands Pond with 4 variables            & 112                                                & 160065\\_4vars                                     & odm2timeseries:160065\\_4vars                      & 44.95061                                           & -92.95508                                          & NA                                                 & NA                                                 & NA                                                 & NA                                                 & ...                                                & Water Environment \\textbar{} Scientists Engineers & NA                                                 & 1                                                  & 1                                                  & Raw                                                & 11                                                 & 2017-04-21 18:16:41                                & 2017-04-22 01:52:02                                & 2017-04-21 18:16:41                                & 2017-04-22 01:52:02                               \\\\\n",
       "\t 160065 Crosslands Pond with 4 variables            & 112                                                & 160065\\_4vars                                     & odm2timeseries:160065\\_4vars                      & 44.95061                                           & -92.95508                                          & NA                                                 & NA                                                 & NA                                                 & NA                                                 & ...                                                & Water Environment \\textbar{} Scientists Engineers & NA                                                 & 1                                                  & 1                                                  & Raw                                                & 11                                                 & 2017-04-21 18:16:41                                & 2017-04-22 01:52:02                                & 2017-04-21 18:16:41                                & 2017-04-22 01:52:02                               \\\\\n",
       "\t 160065 Crosslands Pond with 4 variables            & 112                                                & 160065\\_4vars                                     & odm2timeseries:160065\\_4vars                      & 44.95061                                           & -92.95508                                          & NA                                                 & NA                                                 & NA                                                 & NA                                                 & ...                                                & Water Environment \\textbar{} Scientists Engineers & NA                                                 & 1                                                  & 1                                                  & Raw                                                & 11                                                 & 2017-04-21 18:16:41                                & 2017-04-22 01:52:02                                & 2017-04-21 18:16:41                                & 2017-04-22 01:52:02                               \\\\\n",
       "\t 160065 Crosslands Pond with 4 variables            & 112                                                & 160065\\_4vars                                     & odm2timeseries:160065\\_4vars                      & 44.95061                                           & -92.95508                                          & NA                                                 & NA                                                 & NA                                                 & NA                                                 & ...                                                & Water Environment \\textbar{} Scientists Engineers & NA                                                 & 1                                                  & 1                                                  & Raw                                                & 11                                                 & 2017-04-21 18:16:41                                & 2017-04-22 01:52:02                                & 2017-04-21 18:16:41                                & 2017-04-22 01:52:02                               \\\\\n",
       "\\end{tabular}\n"
      ],
      "text/markdown": [
       "\n",
       "SiteName | SiteID | SiteCode | FullSiteCode | Latitude | Longitude | Elevation | State | County | Comments | ... | sourceDescription | citation | qualityControlLevelID | qualityControlLevelCode | qualityControlLevelDefinition | valueCount | beginDateTime | endDateTime | beginDateTimeUTC | endDateTimeUTC | \n",
       "|---|---|---|---|\n",
       "| 160065 Crosslands Pond with 4 variables  | 112                                      | 160065_4vars                             | odm2timeseries:160065_4vars              | 44.95061                                 | -92.95508                                | NA                                       | NA                                       | NA                                       | NA                                       | ...                                      | Water Environment | Scientists Engineers | NA                                       | 1                                        | 1                                        | Raw                                      | 11                                       | 2017-04-21 18:16:41                      | 2017-04-22 01:52:02                      | 2017-04-21 18:16:41                      | 2017-04-22 01:52:02                      | \n",
       "| 160065 Crosslands Pond with 4 variables  | 112                                      | 160065_4vars                             | odm2timeseries:160065_4vars              | 44.95061                                 | -92.95508                                | NA                                       | NA                                       | NA                                       | NA                                       | ...                                      | Water Environment | Scientists Engineers | NA                                       | 1                                        | 1                                        | Raw                                      | 11                                       | 2017-04-21 18:16:41                      | 2017-04-22 01:52:02                      | 2017-04-21 18:16:41                      | 2017-04-22 01:52:02                      | \n",
       "| 160065 Crosslands Pond with 4 variables  | 112                                      | 160065_4vars                             | odm2timeseries:160065_4vars              | 44.95061                                 | -92.95508                                | NA                                       | NA                                       | NA                                       | NA                                       | ...                                      | Water Environment | Scientists Engineers | NA                                       | 1                                        | 1                                        | Raw                                      | 11                                       | 2017-04-21 18:16:41                      | 2017-04-22 01:52:02                      | 2017-04-21 18:16:41                      | 2017-04-22 01:52:02                      | \n",
       "| 160065 Crosslands Pond with 4 variables  | 112                                      | 160065_4vars                             | odm2timeseries:160065_4vars              | 44.95061                                 | -92.95508                                | NA                                       | NA                                       | NA                                       | NA                                       | ...                                      | Water Environment | Scientists Engineers | NA                                       | 1                                        | 1                                        | Raw                                      | 11                                       | 2017-04-21 18:16:41                      | 2017-04-22 01:52:02                      | 2017-04-21 18:16:41                      | 2017-04-22 01:52:02                      | \n",
       "\n",
       "\n"
      ],
      "text/plain": [
       "  SiteName                                SiteID SiteCode    \n",
       "1 160065 Crosslands Pond with 4 variables 112    160065_4vars\n",
       "2 160065 Crosslands Pond with 4 variables 112    160065_4vars\n",
       "3 160065 Crosslands Pond with 4 variables 112    160065_4vars\n",
       "4 160065 Crosslands Pond with 4 variables 112    160065_4vars\n",
       "  FullSiteCode                Latitude Longitude Elevation State County\n",
       "1 odm2timeseries:160065_4vars 44.95061 -92.95508 NA        NA    NA    \n",
       "2 odm2timeseries:160065_4vars 44.95061 -92.95508 NA        NA    NA    \n",
       "3 odm2timeseries:160065_4vars 44.95061 -92.95508 NA        NA    NA    \n",
       "4 odm2timeseries:160065_4vars 44.95061 -92.95508 NA        NA    NA    \n",
       "  Comments ... sourceDescription                        citation\n",
       "1 NA       ... Water Environment | Scientists Engineers NA      \n",
       "2 NA       ... Water Environment | Scientists Engineers NA      \n",
       "3 NA       ... Water Environment | Scientists Engineers NA      \n",
       "4 NA       ... Water Environment | Scientists Engineers NA      \n",
       "  qualityControlLevelID qualityControlLevelCode qualityControlLevelDefinition\n",
       "1 1                     1                       Raw                          \n",
       "2 1                     1                       Raw                          \n",
       "3 1                     1                       Raw                          \n",
       "4 1                     1                       Raw                          \n",
       "  valueCount beginDateTime       endDateTime         beginDateTimeUTC   \n",
       "1 11         2017-04-21 18:16:41 2017-04-22 01:52:02 2017-04-21 18:16:41\n",
       "2 11         2017-04-21 18:16:41 2017-04-22 01:52:02 2017-04-21 18:16:41\n",
       "3 11         2017-04-21 18:16:41 2017-04-22 01:52:02 2017-04-21 18:16:41\n",
       "4 11         2017-04-21 18:16:41 2017-04-22 01:52:02 2017-04-21 18:16:41\n",
       "  endDateTimeUTC     \n",
       "1 2017-04-22 01:52:02\n",
       "2 2017-04-22 01:52:02\n",
       "3 2017-04-22 01:52:02\n",
       "4 2017-04-22 01:52:02"
      ]
     },
     "metadata": {},
     "output_type": "display_data"
    }
   ],
   "source": [
    "server <- \"http://odm2wofpy.uwrl.usu.edu:8080/odm2timeseries/soap/cuahsi_1_0/.wsdl\"\n",
    "sitecode <- \"odm2timeseries:160065_4vars\"\n",
    "\n",
    "info1 <- GetSiteInfo(server, siteCode=sitecode)\n",
    "head(info1)"
   ]
  },
  {
   "cell_type": "markdown",
   "metadata": {},
   "source": [
    "***SOAP 1.1***"
   ]
  },
  {
   "cell_type": "code",
   "execution_count": 19,
   "metadata": {},
   "outputs": [
    {
     "name": "stdout",
     "output_type": "stream",
     "text": [
      "[1] \"downloading SiteInfo from: http://odm2wofpy.uwrl.usu.edu:8080/odm2timeseries/soap/cuahsi_1_1/\"\n",
      "[1] \"download time: 0.399999999999864 seconds, status: Success\"\n"
     ]
    },
    {
     "ename": "ERROR",
     "evalue": "Error in data.frame(SiteName = rep(SiteName, N), SiteID = rep(SiteID, : arguments imply differing number of rows: 4, 1, 0\n",
     "output_type": "error",
     "traceback": [
      "Error in data.frame(SiteName = rep(SiteName, N), SiteID = rep(SiteID, : arguments imply differing number of rows: 4, 1, 0\nTraceback:\n",
      "1. GetSiteInfo(server, siteCode = sitecode)",
      "2. data.frame(SiteName = rep(SiteName, N), SiteID = rep(SiteID, \n .     N), SiteCode = rep(SiteCode, N), FullSiteCode = rep(paste(Network, \n .     SiteCode, sep = \":\"), N), Latitude = rep(as.numeric(Latitude), \n .     N), Longitude = rep(as.numeric(Longitude), N), Elevation = rep(as.numeric(Elevation), \n .     N), State = rep(State, N), County = rep(County, N), Comments = rep(Comments, \n .     N), VariableCode = VariableCode, FullVariableCode = paste(Vocabulary, \n .     VariableCode, sep = \":\"), VariableName = VariableName, ValueType = ValueType, \n .     DataType = DataType, GeneralCategory = GeneralCategory, SampleMedium = SampleMedium, \n .     UnitName = UnitName, UnitType = UnitType, UnitAbbreviation = UnitAbbreviation, \n .     NoDataValue = as.numeric(NoDataValue), IsRegular = IsRegular, \n .     TimeUnitName = TimeUnitName, TimeUnitAbbreviation = TimeUnitAbbreviation, \n .     TimeSupport = TimeSupport, Speciation = Speciation, methodID = MethodID, \n .     methodCode = MethodCode, methodDescription = MethodDescription, \n .     methodLink = MethodLink, sourceID = SourceID, organization = Organization, \n .     sourceDescription = SourceDescription, citation = Citation, \n .     qualityControlLevelID = QualityControlLevelID, qualityControlLevelCode = QualityControlLevelCode, \n .     qualityControlLevelDefinition = QualityControlLevelDefinition, \n .     valueCount = ValueCount, beginDateTime = as.POSIXct(strptime(BeginDateTime, \n .         \"%Y-%m-%dT%H:%M:%S\")), endDateTime = as.POSIXct(strptime(EndDateTime, \n .         \"%Y-%m-%dT%H:%M:%S\")), beginDateTimeUTC = as.POSIXct(strptime(BeginDateTimeUTC, \n .         \"%Y-%m-%dT%H:%M:%S\")), endDateTimeUTC = as.POSIXct(strptime(EndDateTimeUTC, \n .         \"%Y-%m-%dT%H:%M:%S\")), stringsAsFactors = FALSE)",
      "3. stop(gettextf(\"arguments imply differing number of rows: %s\", \n .     paste(unique(nrows), collapse = \", \")), domain = NA)"
     ]
    }
   ],
   "source": [
    "server <- \"http://odm2wofpy.uwrl.usu.edu:8080/odm2timeseries/soap/cuahsi_1_1/.wsdl\"\n",
    "sitecode <- \"odm2timeseries:160065_4vars\"\n",
    "\n",
    "\n",
    "info2 <- GetSiteInfo(server, siteCode=sitecode)\n",
    "head(info2)"
   ]
  },
  {
   "cell_type": "markdown",
   "metadata": {},
   "source": [
    "***REST 1.0***"
   ]
  },
  {
   "cell_type": "code",
   "execution_count": 20,
   "metadata": {},
   "outputs": [
    {
     "name": "stdout",
     "output_type": "stream",
     "text": [
      "[1] \"downloading SiteInfo from: http://odm2wofpy.uwrl.usu.edu:8080/odm2timeseries/rest/1_0/GetSiteInfo?site=odm2timeseries:160065_4vars\"\n",
      "[1] \"download time: 0.330000000000155 seconds, status: Success\"\n"
     ]
    },
    {
     "name": "stderr",
     "output_type": "stream",
     "text": [
      "No encoding supplied: defaulting to UTF-8.\n"
     ]
    },
    {
     "ename": "ERROR",
     "evalue": "Error in paste(\"NOTE: 0 time series found for site:\", siteCode): argument \"siteCode\" is missing, with no default\n",
     "output_type": "error",
     "traceback": [
      "Error in paste(\"NOTE: 0 time series found for site:\", siteCode): argument \"siteCode\" is missing, with no default\nTraceback:\n",
      "1. GetSiteInfo(url)",
      "2. print(paste(\"NOTE: 0 time series found for site:\", siteCode))",
      "3. paste(\"NOTE: 0 time series found for site:\", siteCode)"
     ]
    }
   ],
   "source": [
    "url <- \"http://odm2wofpy.uwrl.usu.edu:8080/odm2timeseries/rest/1_0/GetSiteInfo?site=odm2timeseries:160065_4vars\"\n",
    "\n",
    "info4 <- GetSiteInfo(url)\n",
    "head(info4)"
   ]
  },
  {
   "cell_type": "markdown",
   "metadata": {},
   "source": [
    "***REST 1.1***"
   ]
  },
  {
   "cell_type": "code",
   "execution_count": 22,
   "metadata": {},
   "outputs": [
    {
     "name": "stdout",
     "output_type": "stream",
     "text": [
      "[1] \"downloading SiteInfo from: http://odm2wofpy.uwrl.usu.edu:8080/odm2timeseries/rest/1_1/GetSiteInfo?site=odm2timeseries:160065_4vars\"\n",
      "[1] \"download time: 0.25 seconds, status: Success\"\n"
     ]
    },
    {
     "name": "stderr",
     "output_type": "stream",
     "text": [
      "No encoding supplied: defaulting to UTF-8.\n"
     ]
    },
    {
     "ename": "ERROR",
     "evalue": "Error in data.frame(SiteName = rep(SiteName, N), SiteID = rep(SiteID, : arguments imply differing number of rows: 4, 1, 0\n",
     "output_type": "error",
     "traceback": [
      "Error in data.frame(SiteName = rep(SiteName, N), SiteID = rep(SiteID, : arguments imply differing number of rows: 4, 1, 0\nTraceback:\n",
      "1. GetSiteInfo(url)",
      "2. data.frame(SiteName = rep(SiteName, N), SiteID = rep(SiteID, \n .     N), SiteCode = rep(SiteCode, N), FullSiteCode = rep(paste(Network, \n .     SiteCode, sep = \":\"), N), Latitude = rep(as.numeric(Latitude), \n .     N), Longitude = rep(as.numeric(Longitude), N), Elevation = rep(as.numeric(Elevation), \n .     N), State = rep(State, N), County = rep(County, N), Comments = rep(Comments, \n .     N), VariableCode = VariableCode, FullVariableCode = paste(Vocabulary, \n .     VariableCode, sep = \":\"), VariableName = VariableName, ValueType = ValueType, \n .     DataType = DataType, GeneralCategory = GeneralCategory, SampleMedium = SampleMedium, \n .     UnitName = UnitName, UnitType = UnitType, UnitAbbreviation = UnitAbbreviation, \n .     NoDataValue = as.numeric(NoDataValue), IsRegular = IsRegular, \n .     TimeUnitName = TimeUnitName, TimeUnitAbbreviation = TimeUnitAbbreviation, \n .     TimeSupport = TimeSupport, Speciation = Speciation, methodID = MethodID, \n .     methodCode = MethodCode, methodDescription = MethodDescription, \n .     methodLink = MethodLink, sourceID = SourceID, organization = Organization, \n .     sourceDescription = SourceDescription, citation = Citation, \n .     qualityControlLevelID = QualityControlLevelID, qualityControlLevelCode = QualityControlLevelCode, \n .     qualityControlLevelDefinition = QualityControlLevelDefinition, \n .     valueCount = ValueCount, beginDateTime = as.POSIXct(strptime(BeginDateTime, \n .         \"%Y-%m-%dT%H:%M:%S\")), endDateTime = as.POSIXct(strptime(EndDateTime, \n .         \"%Y-%m-%dT%H:%M:%S\")), beginDateTimeUTC = as.POSIXct(strptime(BeginDateTimeUTC, \n .         \"%Y-%m-%dT%H:%M:%S\")), endDateTimeUTC = as.POSIXct(strptime(EndDateTimeUTC, \n .         \"%Y-%m-%dT%H:%M:%S\")), stringsAsFactors = FALSE)",
      "3. stop(gettextf(\"arguments imply differing number of rows: %s\", \n .     paste(unique(nrows), collapse = \", \")), domain = NA)"
     ]
    }
   ],
   "source": [
    "url <- \"http://odm2wofpy.uwrl.usu.edu:8080/odm2timeseries/rest/1_1/GetSiteInfo?site=odm2timeseries:160065_4vars\"\n",
    "\n",
    "info5 <- GetSiteInfo(url)\n",
    "head(info5)"
   ]
  },
  {
   "cell_type": "code",
   "execution_count": null,
   "metadata": {
    "collapsed": true
   },
   "outputs": [],
   "source": []
  }
 ],
 "metadata": {
  "kernelspec": {
   "display_name": "R",
   "language": "R",
   "name": "ir"
  },
  "language_info": {
   "codemirror_mode": "r",
   "file_extension": ".r",
   "mimetype": "text/x-r-source",
   "name": "R",
   "pygments_lexer": "r",
   "version": "3.3.2"
  }
 },
 "nbformat": 4,
 "nbformat_minor": 2
}
