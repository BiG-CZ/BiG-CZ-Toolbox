{
 "cells": [
  {
   "cell_type": "markdown",
   "metadata": {},
   "source": [
    "# Testing WOFpy SOAP and REST for WOF/WaterML 1.1\n",
    "Testing performed on cloud-based WOFpy endpoints with ODM2 timeseries MySQL and PostgreSQL backends. These resources are managed by WOFpy developers for WOFpy testing and validation.\n",
    "\n",
    "Don Setiawan and Emilio Mayorga\n",
    "\n",
    "Updates:\n",
    "- 11/7/2017. Ran with the new EnviroDIY USU production endpoint. Made tweaks to make this run, including changes to site_and_variable_codes().\n",
    "- 8/21/2017 Added the printing of Exception, and spaces between requests\n",
    "- 8/19/2017. First general working version."
   ]
  },
  {
   "cell_type": "code",
   "execution_count": 1,
   "metadata": {},
   "outputs": [
    {
     "name": "stderr",
     "output_type": "stream",
     "text": [
      "/home/mayorga/miniconda/envs/odm2client/lib/python2.7/site-packages/ulmo/twc/kbdi/core.py:20: FutureWarning: pandas.tslib is deprecated and will be removed in a future version.\n",
      "You can access Timestamp as pandas.Timestamp\n",
      "  CSV_SWITCHOVER = pandas.tslib.Timestamp('2016-10-01')\n"
     ]
    }
   ],
   "source": [
    "from urlparse import urljoin\n",
    "import io\n",
    "\n",
    "import requests\n",
    "import ulmo\n",
    "import sys\n",
    "import traceback"
   ]
  },
  {
   "cell_type": "code",
   "execution_count": 2,
   "metadata": {},
   "outputs": [
    {
     "name": "stdout",
     "output_type": "stream",
     "text": [
      "\n",
      "    ulmo.cuahsi.wof\n",
      "    ~~~~~~~~~~~~~~~\n",
      "\n",
      "    `CUAHSI WaterOneFlow`_ web services\n",
      "\n",
      "    .. _CUAHSI WaterOneFlow: http://his.cuahsi.org/wofws.html\n",
      "\n"
     ]
    }
   ],
   "source": [
    "print(ulmo.cuahsi.wof.__doc__)"
   ]
  },
  {
   "cell_type": "code",
   "execution_count": 3,
   "metadata": {},
   "outputs": [
    {
     "name": "stdout",
     "output_type": "stream",
     "text": [
      "['absolute_import', 'core', 'get_site_info', 'get_sites', 'get_values', 'get_variable_info']\n"
     ]
    }
   ],
   "source": [
    "print([obj for obj in dir(ulmo.cuahsi.wof) if not obj.startswith('__')])"
   ]
  },
  {
   "cell_type": "code",
   "execution_count": 4,
   "metadata": {},
   "outputs": [],
   "source": [
    "def get_exception(exc_info):\n",
    "    exc_type, exc_value, exc_traceback = exc_info\n",
    "    print('*** {}:'.format(exc_type.__name__))\n",
    "    traceback.print_exception(exc_type, exc_value, exc_traceback, file=sys.stdout)\n",
    "    print('')"
   ]
  },
  {
   "cell_type": "markdown",
   "metadata": {},
   "source": [
    "## Endpoints and testing resources"
   ]
  },
  {
   "cell_type": "code",
   "execution_count": 5,
   "metadata": {},
   "outputs": [],
   "source": [
    "def site_and_variable_codes(networkcode):\n",
    "    if 'postgres' in networkcode or 'wofpy' in networkcode:\n",
    "        sitecode = '{netcode}:160065_Crosslands'.format(netcode=networkcode)\n",
    "        variablecode = '{netcode}:EnviroDIY_Mayfly_Temp'.format(netcode=networkcode)\n",
    "    elif 'mysql' in networkcode:\n",
    "        sitecode = '{netcode}:USU-LBR-Mendon'.format(netcode=networkcode)\n",
    "        variablecode = '{netcode}:USU36'.format(netcode=networkcode)\n",
    "    \n",
    "    return sitecode, variablecode"
   ]
  },
  {
   "cell_type": "code",
   "execution_count": 6,
   "metadata": {},
   "outputs": [],
   "source": [
    "# server_base_url = 'http://54.186.36.247:8080'\n",
    "# networkcodes = ['postgresqlodm2timeseries', 'mysqlodm2timeseries']\n",
    "# networkcodes = ['postgresqlodm2timeseries']\n",
    "\n",
    "server_base_url = 'http://data.envirodiy.org/'\n",
    "networkcodes = ['wofpy']"
   ]
  },
  {
   "cell_type": "markdown",
   "metadata": {},
   "source": [
    "## SOAP 1.1 Testing"
   ]
  },
  {
   "cell_type": "code",
   "execution_count": 7,
   "metadata": {
    "scrolled": false
   },
   "outputs": [
    {
     "name": "stdout",
     "output_type": "stream",
     "text": [
      "--------------------------\n",
      "Testing http://data.envirodiy.org/wofpy/soap/cuahsi_1_1/.wsdl\n",
      "--------------------------\n",
      "SITES-----------------\n",
      "['wofpy:NHMU9S', 'wofpy:NHMU10S', 'wofpy:ZYU1', 'wofpy:PKCV2S', \"wofpy:Craig's_Desk_Test\", 'wofpy:office_test01', 'wofpy:LaSalleE', 'wofpy:RockyLow', 'wofpy:TKessler2', 'wofpy:Casia', 'wofpy:LaSalleN', 'wofpy:NHPK7S', 'wofpy:SHPK4S', 'wofpy:asdfsdf', 'wofpy:CRO-IT Closet', 'wofpy:USU_Mayfly_Test', 'wofpy:USU_STAGE_TEST', 'wofpy:Ben_Desk', 'wofpy:desk_sensors', 'wofpy:KINNI_Logger3', 'wofpy:USU-Logan', 'wofpy:NHPK8S', 'wofpy:PUPP2S', 'wofpy:asdfasdf', 'wofpy:Hurricane', 'wofpy:UofU_Test', 'wofpy:TESTzzz', 'wofpy:tate_test01', 'wofpy:PKCV3S', 'wofpy:JRains2', 'wofpy:JRains1', 'wofpy:Anthonys_Desk', 'wofpy:01', 'wofpy:Beth_office', 'wofpy:CRO_Office', 'wofpy:qwerqwer', 'wofpy:GermantownFS', 'wofpy:BeaverLow', 'wofpy:CME_415', 'wofpy:USU_Test_Site', 'wofpy:USU-Logan-Temp', 'wofpy:USU_STAGING_TEST', 'wofpy:RockyUp', 'wofpy:PUPP3S', 'wofpy:160065_Crosslands', 'wofpy:Ramsey', 'wofpy:Logan_Temp', 'wofpy:SHPK3S', 'wofpy:KINNI_Logger1', 'wofpy:KINNI_Logger2', 'wofpy:USU_Logan', 'wofpy:KINNI_Logger4', 'wofpy:KINNI_Logger5', 'wofpy:KINNI_Logger6']\n",
      "\n",
      "SITE INFO wofpy:160065_Crosslands-------------\n",
      "160065 CrosslandsPond - 10 variables\n",
      "\n",
      "VARIABLES-------------\n",
      "['wofpy:Decagon_CTD-10_Temp', 'wofpy:Apogee_SQ-212_PAR', 'wofpy:Adafruit_AM2315_humidity', 'wofpy:EnviroDIY_Mayfly_FreeSRAM', 'wofpy:MaxBotix_MB7386_Distance', 'wofpy:Decagon_CTD-10_Depth', 'wofpy:Seeed_DHT11_Temp', 'wofpy:Adafruit_AM2315_Temp', 'wofpy:EnviroDIY_Mayfly_Volt', 'wofpy:Decagon_5TM_Ea', 'wofpy:Decagon_CTD-10_EC', 'wofpy:Seeed_BME280_Temp', 'wofpy:EnviroDIY_Mayfly_Temp', 'wofpy:Adafruit_DS18B20_Temp', 'wofpy:Seeed_DHT11_humidity', 'wofpy:Decagon_5TM_Temp', 'wofpy:Campbell_OBS-3+_Turb', 'wofpy:Decagon_5TM_VWC', 'wofpy:Seeed_BME280_humidity']\n",
      "\n",
      "VARIABLE INFO wofpy:EnviroDIY_Mayfly_Temp-------------\n",
      "Temperature\n",
      "\n",
      "VALUES----------------\n",
      "43281\n",
      "\n"
     ]
    }
   ],
   "source": [
    "wofpy_wsdl_url = '/soap/cuahsi_1_1/.wsdl'\n",
    "for networkcode in networkcodes:\n",
    "    url = urljoin(server_base_url, networkcode+wofpy_wsdl_url)\n",
    "    sitecode, variablecode = site_and_variable_codes(networkcode)\n",
    "\n",
    "    print('--------------------------')\n",
    "    print('Testing {}'.format(url))\n",
    "    print('--------------------------')\n",
    "        \n",
    "    print('SITES-----------------')\n",
    "    try:\n",
    "        sites = ulmo.cuahsi.wof.get_sites(url)\n",
    "        \n",
    "        print(sites.keys())\n",
    "        print('')\n",
    "    except:\n",
    "        print('GetSites failed!')\n",
    "        get_exception(sys.exc_info())\n",
    "\n",
    "    \n",
    "    print('SITE INFO {}-------------'.format(sitecode))\n",
    "    try:\n",
    "        siteinfo = ulmo.cuahsi.wof.get_site_info(url, site_code=sitecode)\n",
    "        \n",
    "        print(siteinfo['name'])\n",
    "        print('')\n",
    "    except:\n",
    "        print('GetSiteInfo failed!')\n",
    "        get_exception(sys.exc_info())\n",
    "    \n",
    "    print('VARIABLES-------------')\n",
    "    try:\n",
    "        variables = ulmo.cuahsi.wof.get_variable_info(url)\n",
    "        \n",
    "        print(variables.keys())\n",
    "        print('')\n",
    "    except:\n",
    "        print('GetVariables failed!')\n",
    "        get_exception(sys.exc_info())\n",
    "\n",
    "    print('VARIABLE INFO {}-------------'.format(variablecode))\n",
    "    try:\n",
    "        variable = ulmo.cuahsi.wof.get_variable_info(url, variable_code=variablecode)\n",
    "        \n",
    "        print(variable['name'])\n",
    "        print('')\n",
    "    except:\n",
    "        print('GetVariableInfo failed!')\n",
    "        get_exception(sys.exc_info())\n",
    "    \n",
    "        \n",
    "    print('VALUES----------------')    \n",
    "    try:\n",
    "        values = ulmo.cuahsi.wof.get_values(url, site_code=sitecode, variable_code=variablecode)\n",
    "        \n",
    "        print(len(values['values']))\n",
    "        print('')\n",
    "    except:\n",
    "        print('GetValues failed!')\n",
    "        get_exception(sys.exc_info())"
   ]
  },
  {
   "cell_type": "markdown",
   "metadata": {},
   "source": [
    "## REST 1.1 Testing"
   ]
  },
  {
   "cell_type": "code",
   "execution_count": 8,
   "metadata": {},
   "outputs": [
    {
     "name": "stdout",
     "output_type": "stream",
     "text": [
      "--------------------------\n",
      "Testing http://data.envirodiy.org/wofpy/rest/1_1/\n",
      "--------------------------\n",
      "SITES-----------------\n",
      "['KINNI_Logger1', 'PKCV2S', 'ZYU1', 'RockyUp', 'PUPP2S', 'Hurricane', 'TESTzzz', 'NHMU10S', 'USU_Logan', 'SHPK4S', 'asdfsdf', 'NHMU9S', 'CRO-IT Closet', 'Logan_Temp', 'qwerqwer', '01', 'Beth_office', 'UofU_Test', 'USU_Test_Site', 'NHPK7S', 'Ramsey', 'CME_415', 'CRO_Office', 'Casia', 'BeaverLow', 'USU-Logan-Temp', 'Ben_Desk', 'JRains2', 'tate_test01', 'KINNI_Logger3', 'KINNI_Logger2', 'KINNI_Logger5', 'KINNI_Logger4', 'KINNI_Logger6', 'PUPP3S', 'SHPK3S', 'desk_sensors', 'PKCV3S', 'JRains1', \"Craig's_Desk_Test\", 'TKessler2', 'NHPK8S', 'RockyLow', 'USU_STAGE_TEST', 'USU_STAGING_TEST', 'LaSalleE', 'USU-Logan', 'LaSalleN', 'office_test01', '160065_Crosslands', 'Anthonys_Desk', 'asdfasdf', 'USU_Mayfly_Test', 'GermantownFS']\n",
      "\n",
      "SITE INFO wofpy:160065_Crosslands-------------\n",
      "160065 CrosslandsPond - 10 variables\n",
      "\n",
      "VARIABLES-------------\n",
      "['Decagon_CTD-10_Temp', 'Apogee_SQ-212_PAR', 'Decagon_5TM_Temp', 'EnviroDIY_Mayfly_Temp', 'Adafruit_AM2315_Temp', 'EnviroDIY_Mayfly_Volt', 'Decagon_CTD-10_EC', 'Decagon_5TM_Ea', 'Seeed_BME280_Temp', 'Campbell_OBS-3+_Turb', 'Decagon_CTD-10_Depth', 'Decagon_5TM_VWC', 'MaxBotix_MB7386_Distance', 'Adafruit_AM2315_humidity', 'EnviroDIY_Mayfly_FreeSRAM', 'Seeed_DHT11_Temp', 'Seeed_DHT11_humidity', 'Adafruit_DS18B20_Temp', 'Seeed_BME280_humidity']\n",
      "\n",
      "VARIABLE INFO wofpy:EnviroDIY_Mayfly_Temp-------------\n",
      "Temperature\n",
      "\n",
      "VALUES----------------\n",
      "43281\n",
      "\n"
     ]
    }
   ],
   "source": [
    "wofpy_rest_url = '/rest/1_1/'\n",
    "for networkcode in networkcodes:\n",
    "    url = urljoin(server_base_url, networkcode+wofpy_rest_url)\n",
    "    sitecode, variablecode = site_and_variable_codes(networkcode)\n",
    "\n",
    "    print('--------------------------')\n",
    "    print('Testing {}'.format(url))\n",
    "    print('--------------------------')\n",
    "    \n",
    "    print('SITES-----------------')\n",
    "    try:\n",
    "        req = requests.get(urljoin(url, 'GetSites'))\n",
    "        response_buffer = io.BytesIO(ulmo.util.to_bytes(req.content))\n",
    "        sites = ulmo.waterml.v1_1.parse_site_infos(response_buffer)\n",
    "        \n",
    "        print(sites.keys())\n",
    "        print('')\n",
    "    except:\n",
    "        print('GetSites failed!')\n",
    "        get_exception(sys.exc_info())\n",
    "    \n",
    "    print('SITE INFO {}-------------'.format(sitecode))\n",
    "    try:\n",
    "        req = requests.get(urljoin(url, 'GetSiteInfo'), params={'site':sitecode})\n",
    "        response_buffer = io.BytesIO(ulmo.util.to_bytes(req.content))\n",
    "        siteinfo = ulmo.waterml.v1_1.parse_sites(response_buffer)\n",
    "        \n",
    "        print(siteinfo[sitecode.split(':')[1]]['name'])\n",
    "        print('')\n",
    "    except:\n",
    "        print('GetSiteInfo failed!')\n",
    "        get_exception(sys.exc_info())\n",
    "    \n",
    "    print('VARIABLES-------------')\n",
    "    try:\n",
    "        req = requests.get(urljoin(url, 'GetVariables'))\n",
    "        response_buffer = io.BytesIO(ulmo.util.to_bytes(req.content))\n",
    "        variables = ulmo.waterml.v1_1.parse_variables(response_buffer)\n",
    "        \n",
    "        print(variables.keys())\n",
    "        print('')\n",
    "    except:\n",
    "        print('GetVariables failed!')\n",
    "        get_exception(sys.exc_info())\n",
    "\n",
    "    print('VARIABLE INFO {}-------------'.format(variablecode))\n",
    "    try:\n",
    "        req = requests.get(urljoin(url, 'GetVariableInfo'), params={'variable':variablecode})\n",
    "        response_buffer = io.BytesIO(ulmo.util.to_bytes(req.content))\n",
    "        variable = ulmo.waterml.v1_1.parse_variables(response_buffer)\n",
    "        \n",
    "        print(variable[variablecode.split(':')[1]]['name'])\n",
    "        print('')\n",
    "    except:\n",
    "        print('GetVariableInfo failed!')\n",
    "        get_exception(sys.exc_info())\n",
    "    \n",
    "        \n",
    "    print('VALUES----------------')    \n",
    "    try:\n",
    "        req = requests.get(urljoin(url, 'GetValues'), params={'location':sitecode, \n",
    "                                                              'variable':variablecode})\n",
    "        response_buffer = io.BytesIO(ulmo.util.to_bytes(req.content))\n",
    "        values = ulmo.waterml.v1_1.parse_site_values(response_buffer)\n",
    "        \n",
    "        print(len(values[variablecode.split(':')[1]]['values']))\n",
    "        print('')\n",
    "    except:\n",
    "        print('GetValues failed!')\n",
    "        get_exception(sys.exc_info())"
   ]
  },
  {
   "cell_type": "code",
   "execution_count": null,
   "metadata": {},
   "outputs": [],
   "source": []
  }
 ],
 "metadata": {
  "kernelspec": {
   "display_name": "Python 2",
   "language": "python",
   "name": "python2"
  },
  "language_info": {
   "codemirror_mode": {
    "name": "ipython",
    "version": 2
   },
   "file_extension": ".py",
   "mimetype": "text/x-python",
   "name": "python",
   "nbconvert_exporter": "python",
   "pygments_lexer": "ipython2",
   "version": "2.7.14"
  }
 },
 "nbformat": 4,
 "nbformat_minor": 2
}
